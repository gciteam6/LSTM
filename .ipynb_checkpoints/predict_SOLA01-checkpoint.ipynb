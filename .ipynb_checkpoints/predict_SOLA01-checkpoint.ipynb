{
 "cells": [
  {
   "cell_type": "markdown",
   "metadata": {},
   "source": [
    "# **浮島発電所の発電量を予測してみる**"
   ]
  },
  {
   "cell_type": "markdown",
   "metadata": {},
   "source": [
    "### **必要な関数・ライブラリ等の準備**"
   ]
  },
  {
   "cell_type": "code",
   "execution_count": 1,
   "metadata": {
    "collapsed": true
   },
   "outputs": [],
   "source": [
    "# データ加工・処理・分析モジュール\n",
    "import numpy as np\n",
    "import pandas as pd\n",
    "import tensorflow as tf\n",
    "import matplotlib.pyplot as plt\n",
    "from sklearn.model_selection import train_test_split\n",
    "import random\n",
    "\n",
    "%matplotlib inline\n",
    "\n",
    "import time"
   ]
  },
  {
   "cell_type": "code",
   "execution_count": 2,
   "metadata": {
    "collapsed": true
   },
   "outputs": [],
   "source": [
    "def set_time(dataframe, col_name):\n",
    "    '''\n",
    "    to_datetimeを使うための前処理\n",
    "    '''\n",
    "    dataframe[col_name] = dataframe[col_name].map(lambda x : transform_time(x))\n",
    "    return dataframe"
   ]
  },
  {
   "cell_type": "code",
   "execution_count": 3,
   "metadata": {
    "collapsed": true
   },
   "outputs": [],
   "source": [
    "def transform_time(x):\n",
    "    '''\n",
    "    set_time内で使う関数\n",
    "    to_datetimeで24時をサポートしないので00に変更する処理\n",
    "    '''\n",
    "    str_x = str(x)\n",
    "    res = ''\n",
    "    if str(x)[8:10] == '24':\n",
    "        res = str_x[0:4] + '-' + str_x[4:6] + '-' + str_x[6:8] + ' 00:'+str_x[10:12] \n",
    "    else:\n",
    "        res = str_x[0:4] + '-' + str_x[4:6] + '-' + str_x[6:8] + ' '+ str_x[8:10] +':'+str_x[10:12]\n",
    "    return res"
   ]
  },
  {
   "cell_type": "code",
   "execution_count": 4,
   "metadata": {
    "collapsed": true
   },
   "outputs": [],
   "source": [
    "def normalize_array(x):\n",
    "    '''\n",
    "    min, max, min-max正規化を行なった配列(np.array)を返す\n",
    "    '''\n",
    "    x = np.array(x)\n",
    "    x_min = x.min()\n",
    "    x_max = x.max()\n",
    "    normalized = (x - x_min) / (x_max - x_min) \n",
    "    return x_min, x_max, normalized"
   ]
  },
  {
   "cell_type": "code",
   "execution_count": 5,
   "metadata": {
    "collapsed": true
   },
   "outputs": [],
   "source": [
    "def denormalize_array(normalized_x, x_min, x_max):\n",
    "    '''\n",
    "    正規化前のmin, maxを用いて元のスケールに戻す\n",
    "    '''\n",
    "    normalized_x = np.array(normalized_x)\n",
    "    denormalize_array = (normalized_x) * (x_max - x_min) + x_min\n",
    "    return denormalize_array"
   ]
  },
  {
   "cell_type": "code",
   "execution_count": 6,
   "metadata": {
    "collapsed": true
   },
   "outputs": [],
   "source": [
    "def standardize_array(x):\n",
    "    '''\n",
    "    mean, sigma, 標準化された配列を返す\n",
    "    '''\n",
    "    x = np.array(x)\n",
    "    x_mean = x.mean()\n",
    "    x_sigma = x.std()\n",
    "    standardized_array = (x - x_mean) / x_sigma\n",
    "    return x_mean, x_sigma, standardized_array"
   ]
  },
  {
   "cell_type": "code",
   "execution_count": 7,
   "metadata": {
    "collapsed": true
   },
   "outputs": [],
   "source": [
    "def destandardize_array(standardized_x, x_mean, x_sigma):\n",
    "    '''\n",
    "    標準化前のmean, sigma用いて元のスケールに戻す\n",
    "    '''\n",
    "    standardized_x = np.array(standardized_x)\n",
    "    destandardized_array = (standardized_x) * x_sigma + x_mean\n",
    "    return destandardized_array"
   ]
  },
  {
   "cell_type": "code",
   "execution_count": 8,
   "metadata": {
    "collapsed": true
   },
   "outputs": [],
   "source": [
    "def get_chunked_data(x, chunk_size):\n",
    "    '''\n",
    "    rnnに突っ込むためのchunk_sizeごとに区切った系列データを作る\n",
    "    '''\n",
    "    input_list = []\n",
    "    for i in range(0, len(x) - chunk_size + 1):\n",
    "        input_list.append(x[i : i + chunk_size])\n",
    "    input_list = np.array(input_list)\n",
    "    return input_list"
   ]
  },
  {
   "cell_type": "markdown",
   "metadata": {},
   "source": [
    "## **データの準備**"
   ]
  },
  {
   "cell_type": "code",
   "execution_count": 9,
   "metadata": {},
   "outputs": [
    {
     "data": {
      "text/html": [
       "<div>\n",
       "<style>\n",
       "    .dataframe thead tr:only-child th {\n",
       "        text-align: right;\n",
       "    }\n",
       "\n",
       "    .dataframe thead th {\n",
       "        text-align: left;\n",
       "    }\n",
       "\n",
       "    .dataframe tbody tr th {\n",
       "        vertical-align: top;\n",
       "    }\n",
       "</style>\n",
       "<table border=\"1\" class=\"dataframe\">\n",
       "  <thead>\n",
       "    <tr style=\"text-align: right;\">\n",
       "      <th></th>\n",
       "      <th>datetime</th>\n",
       "      <th>SOLA01</th>\n",
       "      <th>SOLA02</th>\n",
       "      <th>SOLA03</th>\n",
       "    </tr>\n",
       "  </thead>\n",
       "  <tbody>\n",
       "    <tr>\n",
       "      <th>0</th>\n",
       "      <td>2012-01-01 00:00:00</td>\n",
       "      <td>0</td>\n",
       "      <td>0.0</td>\n",
       "      <td>NaN</td>\n",
       "    </tr>\n",
       "    <tr>\n",
       "      <th>1</th>\n",
       "      <td>2012-01-01 00:30:00</td>\n",
       "      <td>0</td>\n",
       "      <td>0.0</td>\n",
       "      <td>NaN</td>\n",
       "    </tr>\n",
       "    <tr>\n",
       "      <th>2</th>\n",
       "      <td>2012-01-01 01:00:00</td>\n",
       "      <td>0</td>\n",
       "      <td>0.0</td>\n",
       "      <td>NaN</td>\n",
       "    </tr>\n",
       "    <tr>\n",
       "      <th>3</th>\n",
       "      <td>2012-01-01 01:30:00</td>\n",
       "      <td>0</td>\n",
       "      <td>0.0</td>\n",
       "      <td>NaN</td>\n",
       "    </tr>\n",
       "    <tr>\n",
       "      <th>4</th>\n",
       "      <td>2012-01-01 02:00:00</td>\n",
       "      <td>0</td>\n",
       "      <td>0.0</td>\n",
       "      <td>NaN</td>\n",
       "    </tr>\n",
       "  </tbody>\n",
       "</table>\n",
       "</div>"
      ],
      "text/plain": [
       "             datetime  SOLA01  SOLA02  SOLA03\n",
       "0 2012-01-01 00:00:00       0     0.0     NaN\n",
       "1 2012-01-01 00:30:00       0     0.0     NaN\n",
       "2 2012-01-01 01:00:00       0     0.0     NaN\n",
       "3 2012-01-01 01:30:00       0     0.0     NaN\n",
       "4 2012-01-01 02:00:00       0     0.0     NaN"
      ]
     },
     "execution_count": 9,
     "metadata": {},
     "output_type": "execute_result"
    }
   ],
   "source": [
    "# データの読み込み\n",
    "# 処理済みデータを読み込む。無かったら作る\n",
    "try:\n",
    "    output_data = pd.read_csv('data/processed_data/out_put.tsv', delimiter = '\\t')\n",
    "    output_data['datetime'] = output_data['datetime'].map(lambda x : pd.to_datetime(x))\n",
    "    \n",
    "except:\n",
    "    # train_kwhをエクセル等で開くとdatetimeが指数表示に直される可能性がある\n",
    "    # その場合うまくいかないので201201010120の形になってることを確認する必要あり\n",
    "    output_data = pd.read_csv('data/raw_data/train_kwh.tsv', delimiter = '\\t')\n",
    "\n",
    "    # datetimeの行をpd.Timestampのインスタンスに変更\n",
    "    output_data = set_time(output_data, 'datetime')\n",
    "    output_data['datetime'] = output_data['datetime'].map(lambda x : pd.to_datetime(x))\n",
    "\n",
    "    # 30分ごとに合計を集計\n",
    "    output_data = output_data.set_index('datetime').groupby(pd.TimeGrouper(freq='1800s', closed='left')).sum()\n",
    "\n",
    "    output_data.to_csv('data/processed_data/out_put.tsv', sep='\\t') \n",
    "    \n",
    "    output_data = pd.read_csv('data/processed_data/out_put.tsv', delimiter = '\\t')\n",
    "    output_data['datetime'] = output_data['datetime'].map(lambda x : pd.to_datetime(x))\n",
    "    \n",
    "output_data.head()"
   ]
  },
  {
   "cell_type": "code",
   "execution_count": 48,
   "metadata": {
    "scrolled": true
   },
   "outputs": [
    {
     "data": {
      "text/html": [
       "<div>\n",
       "<style>\n",
       "    .dataframe thead tr:only-child th {\n",
       "        text-align: right;\n",
       "    }\n",
       "\n",
       "    .dataframe thead th {\n",
       "        text-align: left;\n",
       "    }\n",
       "\n",
       "    .dataframe tbody tr th {\n",
       "        vertical-align: top;\n",
       "    }\n",
       "</style>\n",
       "<table border=\"1\" class=\"dataframe\">\n",
       "  <thead>\n",
       "    <tr style=\"text-align: right;\">\n",
       "      <th></th>\n",
       "      <th>datetime</th>\n",
       "      <th>pr</th>\n",
       "      <th>f_pr</th>\n",
       "      <th>max_ws</th>\n",
       "      <th>f_max_ws</th>\n",
       "      <th>ave_wv</th>\n",
       "      <th>f_ave_wv</th>\n",
       "      <th>ave_ws</th>\n",
       "      <th>f_ave_ws</th>\n",
       "      <th>max_tp</th>\n",
       "      <th>f_max_tp</th>\n",
       "      <th>min_tp</th>\n",
       "      <th>f_min_tp</th>\n",
       "      <th>sl</th>\n",
       "      <th>f_sl</th>\n",
       "      <th>sd</th>\n",
       "      <th>f_sd</th>\n",
       "      <th>dsd</th>\n",
       "      <th>f_dsd</th>\n",
       "    </tr>\n",
       "  </thead>\n",
       "  <tbody>\n",
       "    <tr>\n",
       "      <th>0</th>\n",
       "      <td>2012-01-01 00:00:00</td>\n",
       "      <td>0.0</td>\n",
       "      <td>0.0</td>\n",
       "      <td>67.0</td>\n",
       "      <td>0.0</td>\n",
       "      <td>61.0</td>\n",
       "      <td>0.0</td>\n",
       "      <td>30.0</td>\n",
       "      <td>0.0</td>\n",
       "      <td>-47.0</td>\n",
       "      <td>0.0</td>\n",
       "      <td>-79.0</td>\n",
       "      <td>0.0</td>\n",
       "      <td>0.0</td>\n",
       "      <td>6.0</td>\n",
       "      <td>0.0</td>\n",
       "      <td>0.0</td>\n",
       "      <td>0.0</td>\n",
       "      <td>0.0</td>\n",
       "    </tr>\n",
       "    <tr>\n",
       "      <th>1</th>\n",
       "      <td>2012-01-01 00:30:00</td>\n",
       "      <td>0.0</td>\n",
       "      <td>0.0</td>\n",
       "      <td>46.0</td>\n",
       "      <td>0.0</td>\n",
       "      <td>75.0</td>\n",
       "      <td>0.0</td>\n",
       "      <td>28.0</td>\n",
       "      <td>0.0</td>\n",
       "      <td>-104.0</td>\n",
       "      <td>0.0</td>\n",
       "      <td>-120.0</td>\n",
       "      <td>0.0</td>\n",
       "      <td>0.0</td>\n",
       "      <td>6.0</td>\n",
       "      <td>0.0</td>\n",
       "      <td>0.0</td>\n",
       "      <td>0.0</td>\n",
       "      <td>0.0</td>\n",
       "    </tr>\n",
       "    <tr>\n",
       "      <th>2</th>\n",
       "      <td>2012-01-01 01:00:00</td>\n",
       "      <td>0.0</td>\n",
       "      <td>0.0</td>\n",
       "      <td>60.0</td>\n",
       "      <td>0.0</td>\n",
       "      <td>75.0</td>\n",
       "      <td>0.0</td>\n",
       "      <td>32.0</td>\n",
       "      <td>0.0</td>\n",
       "      <td>-106.0</td>\n",
       "      <td>0.0</td>\n",
       "      <td>-131.0</td>\n",
       "      <td>0.0</td>\n",
       "      <td>0.0</td>\n",
       "      <td>6.0</td>\n",
       "      <td>0.0</td>\n",
       "      <td>0.0</td>\n",
       "      <td>0.0</td>\n",
       "      <td>0.0</td>\n",
       "    </tr>\n",
       "    <tr>\n",
       "      <th>3</th>\n",
       "      <td>2012-01-01 01:30:00</td>\n",
       "      <td>0.0</td>\n",
       "      <td>0.0</td>\n",
       "      <td>61.0</td>\n",
       "      <td>0.0</td>\n",
       "      <td>65.0</td>\n",
       "      <td>0.0</td>\n",
       "      <td>34.0</td>\n",
       "      <td>0.0</td>\n",
       "      <td>-110.0</td>\n",
       "      <td>0.0</td>\n",
       "      <td>-127.0</td>\n",
       "      <td>0.0</td>\n",
       "      <td>0.0</td>\n",
       "      <td>6.0</td>\n",
       "      <td>0.0</td>\n",
       "      <td>0.0</td>\n",
       "      <td>0.0</td>\n",
       "      <td>0.0</td>\n",
       "    </tr>\n",
       "    <tr>\n",
       "      <th>4</th>\n",
       "      <td>2012-01-01 02:00:00</td>\n",
       "      <td>0.0</td>\n",
       "      <td>0.0</td>\n",
       "      <td>76.0</td>\n",
       "      <td>0.0</td>\n",
       "      <td>63.0</td>\n",
       "      <td>0.0</td>\n",
       "      <td>40.0</td>\n",
       "      <td>0.0</td>\n",
       "      <td>-122.0</td>\n",
       "      <td>0.0</td>\n",
       "      <td>-144.0</td>\n",
       "      <td>0.0</td>\n",
       "      <td>0.0</td>\n",
       "      <td>6.0</td>\n",
       "      <td>0.0</td>\n",
       "      <td>0.0</td>\n",
       "      <td>0.0</td>\n",
       "      <td>0.0</td>\n",
       "    </tr>\n",
       "  </tbody>\n",
       "</table>\n",
       "</div>"
      ],
      "text/plain": [
       "             datetime   pr  f_pr  max_ws  f_max_ws  ave_wv  f_ave_wv  ave_ws  \\\n",
       "0 2012-01-01 00:00:00  0.0   0.0    67.0       0.0    61.0       0.0    30.0   \n",
       "1 2012-01-01 00:30:00  0.0   0.0    46.0       0.0    75.0       0.0    28.0   \n",
       "2 2012-01-01 01:00:00  0.0   0.0    60.0       0.0    75.0       0.0    32.0   \n",
       "3 2012-01-01 01:30:00  0.0   0.0    61.0       0.0    65.0       0.0    34.0   \n",
       "4 2012-01-01 02:00:00  0.0   0.0    76.0       0.0    63.0       0.0    40.0   \n",
       "\n",
       "   f_ave_ws  max_tp  f_max_tp  min_tp  f_min_tp   sl  f_sl   sd  f_sd  dsd  \\\n",
       "0       0.0   -47.0       0.0   -79.0       0.0  0.0   6.0  0.0   0.0  0.0   \n",
       "1       0.0  -104.0       0.0  -120.0       0.0  0.0   6.0  0.0   0.0  0.0   \n",
       "2       0.0  -106.0       0.0  -131.0       0.0  0.0   6.0  0.0   0.0  0.0   \n",
       "3       0.0  -110.0       0.0  -127.0       0.0  0.0   6.0  0.0   0.0  0.0   \n",
       "4       0.0  -122.0       0.0  -144.0       0.0  0.0   6.0  0.0   0.0  0.0   \n",
       "\n",
       "   f_dsd  \n",
       "0    0.0  \n",
       "1    0.0  \n",
       "2    0.0  \n",
       "3    0.0  \n",
       "4    0.0  "
      ]
     },
     "execution_count": 48,
     "metadata": {},
     "output_type": "execute_result"
    }
   ],
   "source": [
    "# データの読み込み\n",
    "# 処理済みデータを読み込む。無かったら作る\n",
    "try:\n",
    "    amd_data = pd.read_csv('data/processed_data/amd_data.tsv', delimiter='\\t')\n",
    "    amd_data['datetime'] = amd_data['datetime'].map(lambda x : pd.to_datetime(x))\n",
    "    \n",
    "except:\n",
    "    # 河口湖アメダスのデータを使って予測する, amd_49251\n",
    "    # 各amdidはamd_masterに記載されている\n",
    "    amd_data = pd.read_csv('data/raw_data/amd_49251.tsv', delimiter = '\\t')\n",
    "\n",
    "    amd_data = set_time(amd_data, 'datetime')\n",
    "    amd_data['datetime'] = amd_data['datetime'].map(lambda x : pd.to_datetime(x))\n",
    "\n",
    "    # 30分ごとに平均を集計\n",
    "    amd_data = amd_data.set_index('datetime').groupby(pd.TimeGrouper(freq='1800s', closed='left')).sum()\n",
    "\n",
    "    amd_data.to_csv('data/processed_data/amd_data.tsv', sep='\\t')\n",
    "    \n",
    "    amd_data = pd.read_csv('data/processed_data/amd_data.tsv', delimiter='\\t')\n",
    "    amd_data['datetime'] = amd_data['datetime'].map(lambda x : pd.to_datetime(x))\n",
    "\n",
    "amd_data.head()"
   ]
  },
  {
   "cell_type": "code",
   "execution_count": 49,
   "metadata": {},
   "outputs": [],
   "source": [
    "# モデル構築のためにデータを分割する\n",
    "\n",
    "# 日射量の欠損値を一つ前の値で置換/output_data\n",
    "amd_data['sl'] = amd_data['sl'].fillna(method='bfill')\n",
    "\n",
    "# 学習に必要なデータ\n",
    "# 2012/01/01 00:00 ~ 2015/12/30 20:00のamdデータを用いて\n",
    "# 2012/01/03 03:30 ~ 2015/12/31 23:30のデータを予測する\n",
    "train_x_startID = amd_data[amd_data['datetime'] == pd.to_datetime('2012-01-01 00:00')].index[0]\n",
    "train_x_endID = amd_data[amd_data['datetime'] == pd.to_datetime('2015-12-30 20:00')].index[0]\n",
    "train_y_startID = amd_data[amd_data['datetime'] == pd.to_datetime('2012-01-03 03:30')].index[0]\n",
    "train_y_endID = amd_data[amd_data['datetime'] == pd.to_datetime('2015-12-31 23:30')].index[0]\n",
    "\n",
    "train_amd_data = np.array(amd_data['sl'][train_x_startID:(train_x_endID+1)])\n",
    "train_output_data = np.array(output_data['SOLA01'][train_y_startID:(train_y_endID+1)])\n",
    "\n",
    "# 予測に必要なデータ\n",
    "# 2015/12/29 20:30 ~ 2017/3/30 20:00のamdデータを用いて\n",
    "# 2016/01/01 00:00 ~ 2017/3/31 23:30のoutputデータを予測する\n",
    "test_startID = amd_data[amd_data['datetime'] == pd.to_datetime('2015-12-29 20:30')].index[0]\n",
    "test_endID = amd_data[amd_data['datetime'] == pd.to_datetime('2017-3-30 20:00')].index[0]\n",
    "\n",
    "test_amd_data = list(amd_data['sl'][test_startID:(test_endID+1)])"
   ]
  },
  {
   "cell_type": "code",
   "execution_count": 50,
   "metadata": {
    "collapsed": true
   },
   "outputs": [],
   "source": [
    "# rnnに突っ込むための準備\n",
    "\n",
    "chunk_size = 49\n",
    "\n",
    "# rnnに突っ込むために正規化しておく\n",
    "amd_min, amd_max, normalized_amd = normalize_array(train_amd_data)\n",
    "output_min, output_max, normalized_output = normalize_array(train_output_data)\n",
    "test_amd_min, test_amd_max, normalized_test_amd = normalize_array(test_amd_data)\n",
    "\n",
    "# rnnに突っ込むために標準化しておく\n",
    "amd_mean, amd_sigma, standardized_amd = standardize_array(train_amd_data)\n",
    "output_mean, output_sigma, standardize_output = standardize_array(train_output_data)\n",
    "test_amd_mean, test_amd_sigma, standardize_test_amd = standardize_array(test_amd_data)\n",
    "\n",
    "#時系列データのリストにする\n",
    "input_list = get_chunked_data(normalized_amd, chunk_size)\n",
    "test_input_list = get_chunked_data(normalized_test_amd, chunk_size)\n",
    "\n",
    "# RNNに突っ込むためにデータを整形\n",
    "X = np.array(input_list).reshape(len(input_list), chunk_size, 1)\n",
    "Y = np.array(normalized_output).reshape(len(input_list), 1 )\n",
    "X_predict = np.array(test_input_list).reshape(len(test_input_list), chunk_size, 1)"
   ]
  },
  {
   "cell_type": "code",
   "execution_count": 51,
   "metadata": {
    "scrolled": true
   },
   "outputs": [
    {
     "data": {
      "text/plain": [
       "<matplotlib.text.Text at 0x1265659e8>"
      ]
     },
     "execution_count": 51,
     "metadata": {},
     "output_type": "execute_result"
    },
    {
     "data": {
      "image/png": "[encoded data removed]",
      "text/plain": [
       "<matplotlib.figure.Figure at 0x12a3fcf98>"
      ]
     },
     "metadata": {},
     "output_type": "display_data"
    }
   ],
   "source": [
    "plt.plot(normalized_output[0:1000])\n",
    "plt.title(\"output graph\")"
   ]
  },
  {
   "cell_type": "code",
   "execution_count": 52,
   "metadata": {},
   "outputs": [
    {
     "data": {
      "text/plain": [
       "<matplotlib.text.Text at 0x1263d9a58>"
      ]
     },
     "execution_count": 52,
     "metadata": {},
     "output_type": "execute_result"
    },
    {
     "data": {
      "image/png": "[encoded data removed]",
      "text/plain": [
       "<matplotlib.figure.Figure at 0x12639ff28>"
      ]
     },
     "metadata": {},
     "output_type": "display_data"
    }
   ],
   "source": [
    "plt.plot(normalized_amd[0:1000])\n",
    "plt.title(\"amd graph\")"
   ]
  },
  {
   "cell_type": "code",
   "execution_count": 54,
   "metadata": {},
   "outputs": [
    {
     "data": {
      "text/plain": [
       "<matplotlib.text.Text at 0x12a684cc0>"
      ]
     },
     "execution_count": 54,
     "metadata": {},
     "output_type": "execute_result"
    },
    {
     "data": {
      "image/png": "[encoded data removed]",
      "text/plain": [
       "<matplotlib.figure.Figure at 0x126762550>"
      ]
     },
     "metadata": {},
     "output_type": "display_data"
    }
   ],
   "source": [
    "plt.plot(normalized_test_amd[0:1000])\n",
    "plt.title(\"test_amd graph\")"
   ]
  },
  {
   "cell_type": "markdown",
   "metadata": {},
   "source": [
    "### **モデルの構築**"
   ]
  },
  {
   "cell_type": "markdown",
   "metadata": {},
   "source": [
    "前日の20時までの山梨県富士河口湖のアメダスの日射量データを用いて翌日の00:00~23:30を予測する\n",
    "\n",
    "前日の20時までのデータしか使えないので川崎近くのアメダスデータを使うのは予測として適切か疑問だったのでとりあえず1日程度ラグがありそうな(※要出典)ここのデータをつかう\n",
    "\n",
    "(例)\n",
    "\n",
    "8/17の00:00 ~ 23:30を予測するとき\n",
    "\n",
    "8/17の23:30を8/15 20:00 ~ 8/16 20:00\n",
    "\n",
    "8/17の23:00を8/15 19:30 ~ 8/16 19:30\n",
    "\n",
    "....\n",
    "\n",
    "8/17の00:00を8/14 20:30 ~ 8/15 20:30で予測する\n",
    "\n",
    "参考サイト：http://www.madopro.net/entry/char_level_lm_with_simple_rnn\n",
    "\n",
    "　　　　　　https://qiita.com/yukiB/items/f6314d2861fc8d9b739f\n",
    "\n",
    "          https://www.tensorflow.org/install/migration\n",
    "          "
   ]
  },
  {
   "cell_type": "code",
   "execution_count": 68,
   "metadata": {
    "collapsed": true
   },
   "outputs": [],
   "source": [
    "class simpleLSTM:\n",
    "    def __init__(self, X, Y):\n",
    "        '''\n",
    "        諸変数の設定\n",
    "        '''\n",
    "        self.input_layer_size = 1 #入力層の数、一つ一つのデータはslの値ひとつだけなので1\n",
    "        self.hidden_layer_size = 100 # 隠れ層の数、適当\n",
    "        self.output_layer_size = 1 #出力層の数、求める値は時間あたりの発電量の値1つなので1\n",
    "        self.batch_size = 200 #バッチサイズ、適当\n",
    "        self.chunk_size = 49 # 一回の系列データの長さ\n",
    "        self.learning_rate = 0.01 # 学習率 適当\n",
    "        self.forget_bias = 0.9  # 忘却率\n",
    "        self.epochs = 100 #エポック数\n",
    "        \n",
    "        # 学習データと検証用データに分けておく\n",
    "        X_train, X_val, Y_train, Y_val = train_test_split(X, Y, test_size=int((X.shape[0] * 0.1)))\n",
    "        self.X = X # 入力\n",
    "        self.Y = Y # 教師\n",
    "        self.X_val = X_val # 検証用\n",
    "        self.Y_val = Y_val #検証用\n",
    "        \n",
    "    def shuffle(self):\n",
    "        '''\n",
    "        ミニバッチかする際にランダムにシャッフル\n",
    "        '''\n",
    "        idx = [i for i in range(self.X.shape[0])]\n",
    "        np.random.shuffle(idx)\n",
    "        xs = np.array([[y for y in list(self.X[r])] for r in idx])\n",
    "        ys = np.array([self.Y[r] for r in idx])\n",
    "        return xs, ys\n",
    "        \n",
    "    def inference(self, input_ph, inistate_ph):\n",
    "        '''\n",
    "        グラフの構築\n",
    "        '''\n",
    "        \n",
    "        # 重みとバイアスの初期化\n",
    "        hidden_w = tf.Variable(tf.truncated_normal([self.input_layer_size, self.hidden_layer_size], stddev=0.01), name='hidden_w')\n",
    "        hidden_b = tf.Variable(tf.truncated_normal([self.hidden_layer_size]), name='hidden_b')\n",
    "        output_w = tf.Variable(tf.truncated_normal([self.hidden_layer_size, self.output_layer_size], stddev=0.01), name='output_w')\n",
    "        output_b = tf.Variable(tf.truncated_normal([self.output_layer_size]), name='output_b')\n",
    "        \n",
    "        #　input_phの整型  \n",
    "        in1 = tf.transpose(input_ph, [1, 0, 2]) \n",
    "        in2 = tf.reshape(in1, [-1, self.input_layer_size]) \n",
    "        in3 = tf.matmul(in2, hidden_w) + hidden_b\n",
    "        in4 = tf.split(in3, self.chunk_size, 0)\n",
    "          \n",
    "            \n",
    "        # BasicLSTMCellを定義\n",
    "        cell = tf.contrib.rnn.BasicLSTMCell(self.hidden_layer_size, forget_bias=self.forget_bias, state_is_tuple=False)\n",
    "        rnn_outputs, states = tf.contrib.rnn.static_rnn(cell, in4, initial_state=inistate_ph)\n",
    "        output = tf.matmul(rnn_outputs[-1], output_w) + output_b\n",
    "        results = [hidden_w, output_w, hidden_w, hidden_b]\n",
    "        return output, states, results\n",
    "        \n",
    "    def loss(self, output_ph, actual_ph):\n",
    "        '''\n",
    "        お題と同じmean absolute errorを仕様\n",
    "        '''\n",
    "        cost = tf.reduce_mean(tf.abs(10*(output_ph - actual_ph)))\n",
    "        tf.summary.scalar('loss', cost)\n",
    "        return cost\n",
    "    \n",
    "    def training(self, cost):\n",
    "        '''\n",
    "        adamを仕様beta1, beta2は元論文の推奨値を仕様\n",
    "        '''\n",
    "        with tf.name_scope(\"training\") as scope:\n",
    "            optimizer = tf.train.AdamOptimizer(learning_rate=self.learning_rate, beta1=0.9, beta2=0.999).minimize(cost)\n",
    "            return optimizer\n",
    "    \n",
    "    def train(self):\n",
    "        '''\n",
    "        学習\n",
    "        '''\n",
    "        random.seed(0)\n",
    "        np.random.seed(0)\n",
    "        tf.set_random_seed(0)\n",
    "        n_batch = self.X.shape[0] // self.batch_size\n",
    "        \n",
    "        with tf.Graph().as_default():\n",
    "            # 変数の用意\n",
    "            input_ph = tf.placeholder('float', [None, self.chunk_size, self.input_layer_size], name='input')\n",
    "            actual_ph = tf.placeholder('float', [None, self.output_layer_size], name='actual_value')\n",
    "            inistate_ph = tf.placeholder('float', [None, self.hidden_layer_size * 2], name='inistate')\n",
    "\n",
    "            prediction, state, weights = self.inference(input_ph, inistate_ph)\n",
    "            cost = self.loss(prediction, actual_ph)\n",
    "            optimizer = self.training(cost)\n",
    "\n",
    "            # TensorBoardで可視化する\n",
    "            summary = tf.summary.merge_all()\n",
    "            # 初期化\n",
    "            init = tf.global_variables_initializer()\n",
    "                \n",
    "            # ここから学習\n",
    "            with tf.Session() as sess:\n",
    "                # 学習したモデルも保存しておく\n",
    "                saver = tf.train.Saver()\n",
    "                summary_writer = tf.summary.FileWriter(\"/tmp/tensorflow_log\", graph=sess.graph)\n",
    "                sess.run(init)\n",
    "\n",
    "                for epoch in range(self.epochs):\n",
    "                    X_, Y_ = self.shuffle()\n",
    "                    for i in range(n_batch):\n",
    "                        start = i * self.batch_size\n",
    "                        end = start + self.batch_size\n",
    "                        inputs  = X_[start:end]\n",
    "                        actuals = Y_[start:end]\n",
    "                        train_dict = {\n",
    "                            input_ph:      inputs,\n",
    "                            actual_ph:     actuals,\n",
    "                            inistate_ph:     np.zeros((self.batch_size, self.hidden_layer_size * 2)),\n",
    "                        }\n",
    "                    \n",
    "                    sess.run(optimizer, feed_dict=train_dict)\n",
    "\n",
    "                    if (epoch) % 10 == 0:\n",
    "                        val_dict = {\n",
    "                            input_ph:      self.X_val,\n",
    "                            actual_ph:     self.Y_val,\n",
    "                            inistate_ph:     np.zeros((self.X_val.shape[0], self.hidden_layer_size * 2)),\n",
    "                        }\n",
    "                        summary_str, train_loss = sess.run([summary, cost], feed_dict=val_dict)\n",
    "                        print(\"train#%d, validation loss: %e\" % (epoch, train_loss))\n",
    "                        summary_writer.add_summary(summary_str, epoch)\n",
    "                        \n",
    "                datas = sess.run(weights)\n",
    "                saver.save(sess, \"./data/model/wiki2.ckpt\")\n",
    "                \n",
    "    def predict(self, X_predict):\n",
    "        '''\n",
    "        予測期間に該当するデータから予測\n",
    "        '''\n",
    "        # 予測に使う変数の用意\n",
    "        tf.reset_default_graph()\n",
    "        input_ph = tf.placeholder(\"float\", [None, self.chunk_size, self.input_layer_size], name='input')\n",
    "        inistate_ph = tf.placeholder(\"float\", [None, self.hidden_layer_size * 2], name='inistate')\n",
    "        prediction, state, weights = self.inference(input_ph, inistate_ph)\n",
    "        pre_dict = {\n",
    "            input_ph: X_predict,\n",
    "            inistate_ph: np.zeros((X_predict.shape[0], self.hidden_layer_size*2))\n",
    "        }\n",
    "        \n",
    "        # 初期化\n",
    "        init = tf.global_variables_initializer()\n",
    "\n",
    "        with tf.Session() as sess:\n",
    "            # 保存したモデルをロード\n",
    "            saver = tf.train.Saver()\n",
    "            saver.restore(sess, \"./data/model/wiki2.ckpt\")\n",
    "\n",
    "            # ロードしたモデルを使って予測結果を計算\n",
    "            expected_output = sess.run([prediction], feed_dict=pre_dict)\n",
    "\n",
    "\n",
    "        return expected_output"
   ]
  },
  {
   "cell_type": "code",
   "execution_count": 69,
   "metadata": {
    "collapsed": true
   },
   "outputs": [],
   "source": [
    "model_01 = simpleLSTM(X, Y)"
   ]
  },
  {
   "cell_type": "code",
   "execution_count": 70,
   "metadata": {
    "scrolled": true
   },
   "outputs": [
    {
     "name": "stdout",
     "output_type": "stream",
     "text": [
      "WARNING:tensorflow:<tensorflow.python.ops.rnn_cell_impl.BasicLSTMCell object at 0x13f604b00>: Using a concatenated state is slower and will soon be deprecated.  Use state_is_tuple=True.\n",
      "train#0, validation loss: 5.234409e+00\n",
      "train#10, validation loss: 1.645604e+00\n",
      "train#20, validation loss: 1.816179e+00\n",
      "train#30, validation loss: 1.682336e+00\n",
      "train#40, validation loss: 1.667784e+00\n",
      "train#50, validation loss: 1.619443e+00\n",
      "train#60, validation loss: 1.560727e+00\n",
      "train#70, validation loss: 1.622901e+00\n",
      "train#80, validation loss: 1.572678e+00\n",
      "train#90, validation loss: 1.567591e+00\n"
     ]
    }
   ],
   "source": [
    "model_01.train()"
   ]
  },
  {
   "cell_type": "code",
   "execution_count": 71,
   "metadata": {},
   "outputs": [
    {
     "name": "stdout",
     "output_type": "stream",
     "text": [
      "WARNING:tensorflow:<tensorflow.python.ops.rnn_cell_impl.BasicLSTMCell object at 0x126b85630>: Using a concatenated state is slower and will soon be deprecated.  Use state_is_tuple=True.\n",
      "INFO:tensorflow:Restoring parameters from ./data/model/wiki2.ckpt\n"
     ]
    }
   ],
   "source": [
    "predict = model_01.predict(X[0:1000])\n",
    "predict = np.array(predict).reshape(len(predict[0]))\n",
    "processed_predict = denormalize_array(predict, output_min, output_max)"
   ]
  },
  {
   "cell_type": "code",
   "execution_count": 59,
   "metadata": {},
   "outputs": [],
   "source": [
    "# 2016/01/01 00:00 ~ 2017/3/31 23:30の予測データを書き出す\n",
    "s_idx = amd_data[amd_data['datetime'] == pd.to_datetime('2016/01/01 00:00')].index[0]\n",
    "e_idx = amd_data[amd_data['datetime'] == pd.to_datetime('2017/3/31 23:30')].index[0]\n",
    "predict_data = pd.DataFrame({\"datetime\":amd_data['datetime'][s_idx:e_idx+1], \"expected_output\":processed_predict})\n",
    "predict_data.index = np.arange(len(predict_data))\n",
    "predict_data.to_csv('data/predicted_data/predict_SOLA01.tsv', sep = '\\t')"
   ]
  },
  {
   "cell_type": "code",
   "execution_count": 72,
   "metadata": {
    "scrolled": true
   },
   "outputs": [
    {
     "data": {
      "text/plain": [
       "<matplotlib.text.Text at 0x12d379f60>"
      ]
     },
     "execution_count": 72,
     "metadata": {},
     "output_type": "execute_result"
    },
    {
     "data": {
      "image/png": "[encoded data removed]",
      "text/plain": [
       "<matplotlib.figure.Figure at 0x1206faba8>"
      ]
     },
     "metadata": {},
     "output_type": "display_data"
    }
   ],
   "source": [
    "plt.plot(processed_predict[0:200])\n",
    "plt.title(\"expected output\")"
   ]
  },
  {
   "cell_type": "code",
   "execution_count": 73,
   "metadata": {},
   "outputs": [
    {
     "data": {
      "text/plain": [
       "<matplotlib.text.Text at 0x127523c88>"
      ]
     },
     "execution_count": 73,
     "metadata": {},
     "output_type": "execute_result"
    },
    {
     "data": {
      "image/png": "[encoded data removed]",
      "text/plain": [
       "<matplotlib.figure.Figure at 0x12d4609e8>"
      ]
     },
     "metadata": {},
     "output_type": "display_data"
    }
   ],
   "source": [
    "plt.plot(output_data['SOLA01'][0:200])\n",
    "plt.title(\"actual output\")"
   ]
  },
  {
   "cell_type": "code",
   "execution_count": 53,
   "metadata": {},
   "outputs": [
    {
     "data": {
      "text/plain": [
       "0          0.000000\n",
       "1          0.000000\n",
       "2          0.000000\n",
       "3          0.000000\n",
       "4          0.000000\n",
       "5          0.000000\n",
       "6          0.000000\n",
       "7          0.000000\n",
       "8          0.000000\n",
       "9          0.000000\n",
       "10         0.000000\n",
       "11         0.000000\n",
       "12         0.000000\n",
       "13         0.000000\n",
       "14         0.000000\n",
       "15       113.333333\n",
       "16       403.333333\n",
       "17       600.000000\n",
       "18       600.000000\n",
       "19       600.000000\n",
       "20       600.000000\n",
       "21       600.000000\n",
       "22       600.000000\n",
       "23       600.000000\n",
       "24       600.000000\n",
       "25       350.000000\n",
       "26       196.666667\n",
       "27       150.000000\n",
       "28       113.333333\n",
       "29       586.666667\n",
       "            ...    \n",
       "91986      0.000000\n",
       "91987      0.000000\n",
       "91988      0.000000\n",
       "91989      0.000000\n",
       "91990      0.000000\n",
       "91991      0.000000\n",
       "91992      0.000000\n",
       "91993      0.000000\n",
       "91994      0.000000\n",
       "91995      0.000000\n",
       "91996      0.000000\n",
       "91997      0.000000\n",
       "91998      0.000000\n",
       "91999      0.000000\n",
       "92000      0.000000\n",
       "92001      0.000000\n",
       "92002      0.000000\n",
       "92003      0.000000\n",
       "92004      0.000000\n",
       "92005      0.000000\n",
       "92006      0.000000\n",
       "92007      0.000000\n",
       "92008      0.000000\n",
       "92009      0.000000\n",
       "92010      0.000000\n",
       "92011      0.000000\n",
       "92012      0.000000\n",
       "92013      0.000000\n",
       "92014      0.000000\n",
       "92015      0.000000\n",
       "Name: sl, Length: 92016, dtype: float64"
      ]
     },
     "execution_count": 53,
     "metadata": {},
     "output_type": "execute_result"
    }
   ],
   "source": [
    "amd_data['sl']"
   ]
  },
  {
   "cell_type": "markdown",
   "metadata": {},
   "source": [
    "### ** 新モデルの構築 **"
   ]
  },
  {
   "cell_type": "markdown",
   "metadata": {},
   "source": [
    "前日の20時までの山梨県富士河口湖のアメダスの日射量データを用いて翌日の00:00~23:30を予測する\n",
    "\n",
    "一個上のモデルでは発電量が0の時とそうでない時とで差が大きすぎたので予測値が不適切になりがち\n",
    "\n",
    "予測に使う変数は上記モデルとおなじままにLSTMの出力を[0フラグ, 発電量の予測]にしてみたい\n",
    "\n",
    "LOSSは0フラグのエントロピーと0でない時の発電量の予測値と実測値の合算にする\n",
    "\n",
    "(例)\n",
    "\n",
    "[1, 0.0432] 0フラグがあるので発電量としては0, 計算値は0.0432\n",
    "\n",
    "[0, 0.497] 0フラグがないので発電量は計算値そのままをつかい0.497 (あとでスケールを戻す)"
   ]
  },
  {
   "cell_type": "markdown",
   "metadata": {},
   "source": [
    "### **新モデルのためのデータ再構築**"
   ]
  },
  {
   "cell_type": "code",
   "execution_count": 26,
   "metadata": {
    "collapsed": true
   },
   "outputs": [],
   "source": [
    "# モデル構築のためにデータを分割する\n",
    "\n",
    "# 日射量の欠損値を一つ前の値で置換/output_data\n",
    "amd_data['sl'] = amd_data['sl'].fillna(method='bfill')\n",
    "\n",
    "# 学習に必要なデータ\n",
    "# 2012/01/01 00:00 ~ 2015/12/30 20:00のamdデータを用いて\n",
    "# 2012/01/03 03:30 ~ 2015/12/31 23:30のデータを予測する\n",
    "train_x_startID = amd_data[amd_data['datetime'] == pd.to_datetime('2012-01-01 00:00')].index[0]\n",
    "train_x_endID = amd_data[amd_data['datetime'] == pd.to_datetime('2015-12-30 20:00')].index[0]\n",
    "train_y_startID = amd_data[amd_data['datetime'] == pd.to_datetime('2012-01-03 03:30')].index[0]\n",
    "train_y_endID = amd_data[amd_data['datetime'] == pd.to_datetime('2015-12-31 23:30')].index[0]\n",
    "\n",
    "train_amd_data = np.array(amd_data['sl'][train_x_startID:(train_x_endID+1)])\n",
    "train_output_data = np.array(output_data['SOLA01'][train_y_startID:(train_y_endID+1)])\n",
    "\n",
    "# 予測に必要なデータ\n",
    "# 2015/12/29 20:30 ~ 2017/3/30 20:00のamdデータを用いて\n",
    "# 2016/01/01 00:00 ~ 2017/3/31 23:30のoutputデータを予測する\n",
    "test_startID = amd_data[amd_data['datetime'] == pd.to_datetime('2015-12-29 20:30')].index[0]\n",
    "test_endID = amd_data[amd_data['datetime'] == pd.to_datetime('2017-3-30 20:00')].index[0]\n",
    "\n",
    "test_amd_data = list(amd_data['sl'][test_startID:(test_endID+1)])"
   ]
  },
  {
   "cell_type": "code",
   "execution_count": null,
   "metadata": {
    "collapsed": true
   },
   "outputs": [],
   "source": [
    "def add_lable_data(x, threshold):\n",
    "    '''\n",
    "    発電量が閾値以下なら1を、以上なら0のラベルをつけながら標準化\n",
    "    '''\n",
    "    droped_output_data = x[np.where(x>100)]\n",
    "    \n",
    "    for "
   ]
  },
  {
   "cell_type": "code",
   "execution_count": 27,
   "metadata": {
    "collapsed": true
   },
   "outputs": [],
   "source": [
    "# rnnに突っ込むための準備\n",
    "\n",
    "chunk_size = 49\n",
    "\n",
    "# rnnに突っ込むために正規化しておく\n",
    "amd_min, amd_max, normalized_amd = normalize_array(train_amd_data)\n",
    "output_min, output_max, normalized_output = normalize_array(train_output_data)\n",
    "test_amd_min, test_amd_max, normalized_test_amd = normalize_array(test_amd_data)\n",
    "\n",
    "# rnnに突っ込むために標準化しておく\n",
    "amd_mean, amd_sigma, standardized_amd = standardize_array(train_amd_data)\n",
    "output_mean, output_sigma, standardize_output = standardize_array(train_output_data)\n",
    "test_amd_mean, test_amd_sigma, standardize_test_amd = standardize_array(test_amd_data)\n",
    "\n",
    "#時系列データのリストにする\n",
    "input_list = get_chunked_data(standardized_amd, chunk_size)\n",
    "test_input_list = get_chunked_data(standardize_test_amd, chunk_size)\n",
    "\n",
    "# RNNに突っ込むためにデータを整形\n",
    "X = np.array(input_list).reshape(len(input_list), chunk_size, 1)\n",
    "Y = np.array(normalized_output).reshape(len(input_list), 1 )\n",
    "X_predict = np.array(test_input_list).reshape(len(test_input_list), chunk_size, 1)"
   ]
  },
  {
   "cell_type": "code",
   "execution_count": 25,
   "metadata": {},
   "outputs": [
    {
     "data": {
      "text/plain": [
       "(array([ 6738.,  4164.,  2994.,  2660.,  2596.,  2695.,  3273.,  2749.,\n",
       "         1531.,   240.]),\n",
       " array([  101. ,   431.8,   762.6,  1093.4,  1424.2,  1755. ,  2085.8,\n",
       "         2416.6,  2747.4,  3078.2,  3409. ]),\n",
       " <a list of 10 Patch objects>)"
      ]
     },
     "execution_count": 25,
     "metadata": {},
     "output_type": "execute_result"
    },
    {
     "data": {
      "image/png": "[encoded data removed]",
      "text/plain": [
       "<matplotlib.figure.Figure at 0x11abf0080>"
      ]
     },
     "metadata": {},
     "output_type": "display_data"
    }
   ],
   "source": [
    "plt.hist(output_data[output_data['SOLA01'] > 100]['SOLA01'])"
   ]
  },
  {
   "cell_type": "code",
   "execution_count": 32,
   "metadata": {
    "collapsed": true
   },
   "outputs": [],
   "source": [
    "x = train_output_data[np.where(train_output_data>100)]"
   ]
  },
  {
   "cell_type": "code",
   "execution_count": 34,
   "metadata": {},
   "outputs": [
    {
     "name": "stdout",
     "output_type": "stream",
     "text": [
      "1320.3721967 893.327325998\n"
     ]
    }
   ],
   "source": [
    "x_mean = x.mean()\n",
    "x_sigma = x.std()\n",
    "print(x_mean, x_sigma)"
   ]
  },
  {
   "cell_type": "code",
   "execution_count": 35,
   "metadata": {},
   "outputs": [
    {
     "name": "stdout",
     "output_type": "stream",
     "text": [
      "560.432445555 872.133458786\n"
     ]
    }
   ],
   "source": [
    "x_ = train_output_data\n",
    "x__mean = x_.mean()\n",
    "x__sigma = x_.std()\n",
    "print(x__mean, x__sigma)"
   ]
  },
  {
   "cell_type": "code",
   "execution_count": null,
   "metadata": {
    "collapsed": true
   },
   "outputs": [],
   "source": []
  }
 ],
 "metadata": {
  "kernelspec": {
   "display_name": "Python 3",
   "language": "python",
   "name": "python3"
  },
  "language_info": {
   "codemirror_mode": {
    "name": "ipython",
    "version": 3
   },
   "file_extension": ".py",
   "mimetype": "text/x-python",
   "name": "python",
   "nbconvert_exporter": "python",
   "pygments_lexer": "ipython3",
   "version": "3.6.2"
  }
 },
 "nbformat": 4,
 "nbformat_minor": 2
}
