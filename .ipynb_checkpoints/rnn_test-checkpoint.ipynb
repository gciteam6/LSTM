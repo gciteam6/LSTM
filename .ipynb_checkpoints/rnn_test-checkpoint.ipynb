{
 "cells": [
  {
   "cell_type": "markdown",
   "metadata": {},
   "source": [
    "### **rnnを実装してみる**"
   ]
  },
  {
   "cell_type": "markdown",
   "metadata": {},
   "source": [
    "## **必要な関数・ライブラリ等の準備**"
   ]
  },
  {
   "cell_type": "code",
   "execution_count": 122,
   "metadata": {},
   "outputs": [],
   "source": [
    "# データ加工・処理・分析モジュール\n",
    "import numpy as np\n",
    "import pandas as pd\n",
    "import tensorflow as tf\n",
    "import matplotlib.pyplot as plt\n",
    "\n",
    "%matplotlib inline\n",
    "\n",
    "import time"
   ]
  },
  {
   "cell_type": "code",
   "execution_count": 56,
   "metadata": {
    "collapsed": true
   },
   "outputs": [],
   "source": [
    "def set_time(dataframe, col_name):\n",
    "    '''\n",
    "    to_datetimeを使うための前処理\n",
    "    '''\n",
    "    dataframe[col_name] = dataframe[col_name].map(lambda x : transform_time(x))\n",
    "    return dataframe"
   ]
  },
  {
   "cell_type": "code",
   "execution_count": 57,
   "metadata": {
    "collapsed": true
   },
   "outputs": [],
   "source": [
    "def transform_time(x):\n",
    "    '''\n",
    "    set_time内で使う関数\n",
    "    to_datetimeで24時をサポートしないので00に変更する処理\n",
    "    '''\n",
    "    str_x = str(x)\n",
    "    res = ''\n",
    "    if str(x)[8:10] == '24':\n",
    "        res = str_x[0:4] + '-' + str_x[4:6] + '-' + str_x[6:8] + ' 00:'+str_x[10:12] \n",
    "    else:\n",
    "        res = str_x[0:4] + '-' + str_x[4:6] + '-' + str_x[6:8] + ' '+ str_x[8:10] +':'+str_x[10:12]\n",
    "    return res"
   ]
  },
  {
   "cell_type": "markdown",
   "metadata": {},
   "source": [
    "## **データの準備**"
   ]
  },
  {
   "cell_type": "code",
   "execution_count": 99,
   "metadata": {},
   "outputs": [
    {
     "data": {
      "text/html": [
       "<div>\n",
       "<style>\n",
       "    .dataframe thead tr:only-child th {\n",
       "        text-align: right;\n",
       "    }\n",
       "\n",
       "    .dataframe thead th {\n",
       "        text-align: left;\n",
       "    }\n",
       "\n",
       "    .dataframe tbody tr th {\n",
       "        vertical-align: top;\n",
       "    }\n",
       "</style>\n",
       "<table border=\"1\" class=\"dataframe\">\n",
       "  <thead>\n",
       "    <tr style=\"text-align: right;\">\n",
       "      <th></th>\n",
       "      <th>datetime</th>\n",
       "      <th>SOLA01</th>\n",
       "      <th>SOLA02</th>\n",
       "      <th>SOLA03</th>\n",
       "    </tr>\n",
       "  </thead>\n",
       "  <tbody>\n",
       "    <tr>\n",
       "      <th>0</th>\n",
       "      <td>2012-01-01 00:00:00</td>\n",
       "      <td>0</td>\n",
       "      <td>0.0</td>\n",
       "      <td>NaN</td>\n",
       "    </tr>\n",
       "    <tr>\n",
       "      <th>1</th>\n",
       "      <td>2012-01-01 00:30:00</td>\n",
       "      <td>0</td>\n",
       "      <td>0.0</td>\n",
       "      <td>NaN</td>\n",
       "    </tr>\n",
       "    <tr>\n",
       "      <th>2</th>\n",
       "      <td>2012-01-01 01:00:00</td>\n",
       "      <td>0</td>\n",
       "      <td>0.0</td>\n",
       "      <td>NaN</td>\n",
       "    </tr>\n",
       "    <tr>\n",
       "      <th>3</th>\n",
       "      <td>2012-01-01 01:30:00</td>\n",
       "      <td>0</td>\n",
       "      <td>0.0</td>\n",
       "      <td>NaN</td>\n",
       "    </tr>\n",
       "    <tr>\n",
       "      <th>4</th>\n",
       "      <td>2012-01-01 02:00:00</td>\n",
       "      <td>0</td>\n",
       "      <td>0.0</td>\n",
       "      <td>NaN</td>\n",
       "    </tr>\n",
       "  </tbody>\n",
       "</table>\n",
       "</div>"
      ],
      "text/plain": [
       "             datetime  SOLA01  SOLA02  SOLA03\n",
       "0 2012-01-01 00:00:00       0     0.0     NaN\n",
       "1 2012-01-01 00:30:00       0     0.0     NaN\n",
       "2 2012-01-01 01:00:00       0     0.0     NaN\n",
       "3 2012-01-01 01:30:00       0     0.0     NaN\n",
       "4 2012-01-01 02:00:00       0     0.0     NaN"
      ]
     },
     "execution_count": 99,
     "metadata": {},
     "output_type": "execute_result"
    }
   ],
   "source": [
    "# データの読み込み\n",
    "# 処理済みデータを読み込む。無かったら作る\n",
    "try:\n",
    "    output_data = pd.read_csv('data/processed_data/out_put.tsv', delimiter = '\\t')\n",
    "    output_data['datetime'] = output_data['datetime'].map(lambda x : pd.to_datetime(x))\n",
    "    \n",
    "except:\n",
    "    # train_kwhをエクセル等で開くとdatetimeが指数表示に直される可能性がある\n",
    "    # その場合うまくいかないので201201010120の形になってることを確認する必要あり\n",
    "    output_data = pd.read_csv('data/raw_data/train_kwh.tsv', delimiter = '\\t')\n",
    "\n",
    "    # datetimeの行をpd.Timestampのインスタンスに変更\n",
    "    output_data = set_time(output_data, 'datetime')\n",
    "    output_data['datetime'] = output_data['datetime'].map(lambda x : pd.to_datetime(x))\n",
    "\n",
    "    # 30分ごとに合計を集計\n",
    "    output_data = output_data.set_index('datetime').groupby(pd.TimeGrouper(freq='1800s', closed='left')).sum()\n",
    "\n",
    "    output_data.to_csv('data/processed_data/out_put.tsv', sep='\\t') \n",
    "    \n",
    "output_data.head()"
   ]
  },
  {
   "cell_type": "code",
   "execution_count": 126,
   "metadata": {},
   "outputs": [
    {
     "data": {
      "text/html": [
       "<div>\n",
       "<style>\n",
       "    .dataframe thead tr:only-child th {\n",
       "        text-align: right;\n",
       "    }\n",
       "\n",
       "    .dataframe thead th {\n",
       "        text-align: left;\n",
       "    }\n",
       "\n",
       "    .dataframe tbody tr th {\n",
       "        vertical-align: top;\n",
       "    }\n",
       "</style>\n",
       "<table border=\"1\" class=\"dataframe\">\n",
       "  <thead>\n",
       "    <tr style=\"text-align: right;\">\n",
       "      <th></th>\n",
       "      <th>pr</th>\n",
       "      <th>f_pr</th>\n",
       "      <th>max_ws</th>\n",
       "      <th>f_max_ws</th>\n",
       "      <th>ave_wv</th>\n",
       "      <th>f_ave_wv</th>\n",
       "      <th>ave_ws</th>\n",
       "      <th>f_ave_ws</th>\n",
       "      <th>max_tp</th>\n",
       "      <th>f_max_tp</th>\n",
       "      <th>min_tp</th>\n",
       "      <th>f_min_tp</th>\n",
       "      <th>sl</th>\n",
       "      <th>f_sl</th>\n",
       "      <th>sd</th>\n",
       "      <th>f_sd</th>\n",
       "      <th>dsd</th>\n",
       "      <th>f_dsd</th>\n",
       "    </tr>\n",
       "    <tr>\n",
       "      <th>datetime</th>\n",
       "      <th></th>\n",
       "      <th></th>\n",
       "      <th></th>\n",
       "      <th></th>\n",
       "      <th></th>\n",
       "      <th></th>\n",
       "      <th></th>\n",
       "      <th></th>\n",
       "      <th></th>\n",
       "      <th></th>\n",
       "      <th></th>\n",
       "      <th></th>\n",
       "      <th></th>\n",
       "      <th></th>\n",
       "      <th></th>\n",
       "      <th></th>\n",
       "      <th></th>\n",
       "      <th></th>\n",
       "    </tr>\n",
       "  </thead>\n",
       "  <tbody>\n",
       "    <tr>\n",
       "      <th>2012-01-01 00:00:00</th>\n",
       "      <td>0.0</td>\n",
       "      <td>0.0</td>\n",
       "      <td>22.333333</td>\n",
       "      <td>0.0</td>\n",
       "      <td>20.333333</td>\n",
       "      <td>0.0</td>\n",
       "      <td>10.000000</td>\n",
       "      <td>0.0</td>\n",
       "      <td>-15.666667</td>\n",
       "      <td>0.0</td>\n",
       "      <td>-26.333333</td>\n",
       "      <td>0.0</td>\n",
       "      <td>0.0</td>\n",
       "      <td>2.0</td>\n",
       "      <td>0.0</td>\n",
       "      <td>0.0</td>\n",
       "      <td>0.0</td>\n",
       "      <td>0.0</td>\n",
       "    </tr>\n",
       "    <tr>\n",
       "      <th>2012-01-01 00:30:00</th>\n",
       "      <td>0.0</td>\n",
       "      <td>0.0</td>\n",
       "      <td>15.333333</td>\n",
       "      <td>0.0</td>\n",
       "      <td>25.000000</td>\n",
       "      <td>0.0</td>\n",
       "      <td>9.333333</td>\n",
       "      <td>0.0</td>\n",
       "      <td>-34.666667</td>\n",
       "      <td>0.0</td>\n",
       "      <td>-40.000000</td>\n",
       "      <td>0.0</td>\n",
       "      <td>0.0</td>\n",
       "      <td>2.0</td>\n",
       "      <td>0.0</td>\n",
       "      <td>0.0</td>\n",
       "      <td>0.0</td>\n",
       "      <td>0.0</td>\n",
       "    </tr>\n",
       "    <tr>\n",
       "      <th>2012-01-01 01:00:00</th>\n",
       "      <td>0.0</td>\n",
       "      <td>0.0</td>\n",
       "      <td>20.000000</td>\n",
       "      <td>0.0</td>\n",
       "      <td>25.000000</td>\n",
       "      <td>0.0</td>\n",
       "      <td>10.666667</td>\n",
       "      <td>0.0</td>\n",
       "      <td>-35.333333</td>\n",
       "      <td>0.0</td>\n",
       "      <td>-43.666667</td>\n",
       "      <td>0.0</td>\n",
       "      <td>0.0</td>\n",
       "      <td>2.0</td>\n",
       "      <td>0.0</td>\n",
       "      <td>0.0</td>\n",
       "      <td>0.0</td>\n",
       "      <td>0.0</td>\n",
       "    </tr>\n",
       "    <tr>\n",
       "      <th>2012-01-01 01:30:00</th>\n",
       "      <td>0.0</td>\n",
       "      <td>0.0</td>\n",
       "      <td>20.333333</td>\n",
       "      <td>0.0</td>\n",
       "      <td>21.666667</td>\n",
       "      <td>0.0</td>\n",
       "      <td>11.333333</td>\n",
       "      <td>0.0</td>\n",
       "      <td>-36.666667</td>\n",
       "      <td>0.0</td>\n",
       "      <td>-42.333333</td>\n",
       "      <td>0.0</td>\n",
       "      <td>0.0</td>\n",
       "      <td>2.0</td>\n",
       "      <td>0.0</td>\n",
       "      <td>0.0</td>\n",
       "      <td>0.0</td>\n",
       "      <td>0.0</td>\n",
       "    </tr>\n",
       "    <tr>\n",
       "      <th>2012-01-01 02:00:00</th>\n",
       "      <td>0.0</td>\n",
       "      <td>0.0</td>\n",
       "      <td>25.333333</td>\n",
       "      <td>0.0</td>\n",
       "      <td>21.000000</td>\n",
       "      <td>0.0</td>\n",
       "      <td>13.333333</td>\n",
       "      <td>0.0</td>\n",
       "      <td>-40.666667</td>\n",
       "      <td>0.0</td>\n",
       "      <td>-48.000000</td>\n",
       "      <td>0.0</td>\n",
       "      <td>0.0</td>\n",
       "      <td>2.0</td>\n",
       "      <td>0.0</td>\n",
       "      <td>0.0</td>\n",
       "      <td>0.0</td>\n",
       "      <td>0.0</td>\n",
       "    </tr>\n",
       "  </tbody>\n",
       "</table>\n",
       "</div>"
      ],
      "text/plain": [
       "                      pr  f_pr     max_ws  f_max_ws     ave_wv  f_ave_wv  \\\n",
       "datetime                                                                   \n",
       "2012-01-01 00:00:00  0.0   0.0  22.333333       0.0  20.333333       0.0   \n",
       "2012-01-01 00:30:00  0.0   0.0  15.333333       0.0  25.000000       0.0   \n",
       "2012-01-01 01:00:00  0.0   0.0  20.000000       0.0  25.000000       0.0   \n",
       "2012-01-01 01:30:00  0.0   0.0  20.333333       0.0  21.666667       0.0   \n",
       "2012-01-01 02:00:00  0.0   0.0  25.333333       0.0  21.000000       0.0   \n",
       "\n",
       "                        ave_ws  f_ave_ws     max_tp  f_max_tp     min_tp  \\\n",
       "datetime                                                                   \n",
       "2012-01-01 00:00:00  10.000000       0.0 -15.666667       0.0 -26.333333   \n",
       "2012-01-01 00:30:00   9.333333       0.0 -34.666667       0.0 -40.000000   \n",
       "2012-01-01 01:00:00  10.666667       0.0 -35.333333       0.0 -43.666667   \n",
       "2012-01-01 01:30:00  11.333333       0.0 -36.666667       0.0 -42.333333   \n",
       "2012-01-01 02:00:00  13.333333       0.0 -40.666667       0.0 -48.000000   \n",
       "\n",
       "                     f_min_tp   sl  f_sl   sd  f_sd  dsd  f_dsd  \n",
       "datetime                                                         \n",
       "2012-01-01 00:00:00       0.0  0.0   2.0  0.0   0.0  0.0    0.0  \n",
       "2012-01-01 00:30:00       0.0  0.0   2.0  0.0   0.0  0.0    0.0  \n",
       "2012-01-01 01:00:00       0.0  0.0   2.0  0.0   0.0  0.0    0.0  \n",
       "2012-01-01 01:30:00       0.0  0.0   2.0  0.0   0.0  0.0    0.0  \n",
       "2012-01-01 02:00:00       0.0  0.0   2.0  0.0   0.0  0.0    0.0  "
      ]
     },
     "execution_count": 126,
     "metadata": {},
     "output_type": "execute_result"
    }
   ],
   "source": [
    "# データの読み込み\n",
    "# 処理済みデータを読み込む。無かったら作る\n",
    "try:\n",
    "    amd_data = pd.read_csv('data/processed_data/amd_data.tsv', delimiter='\\t')\n",
    "    amd_data['datetime'] = amd_data['datetime'].map(lambda x : pd.to_datetime(x))\n",
    "    \n",
    "except:\n",
    "    # 河口湖アメダスのデータを使って予測する, amd_49251\n",
    "    # 各amdidはamd_masterに記載されている\n",
    "    amd_data = pd.read_csv('data/raw_data/amd_49251.tsv', delimiter = '\\t')\n",
    "\n",
    "    amd_data = set_time(amd_data, 'datetime')\n",
    "    amd_data['datetime'] = amd_data['datetime'].map(lambda x : pd.to_datetime(x))\n",
    "\n",
    "    # 30分ごとに平均を集計\n",
    "    amd_data = amd_data.set_index('datetime').groupby(pd.TimeGrouper(freq='1800s', closed='left')).mean()\n",
    "\n",
    "    amd_data.to_csv('data/processed_data/amd_data.tsv', sep='\\t')\n",
    "\n",
    "amd_data.head()"
   ]
  },
  {
   "cell_type": "markdown",
   "metadata": {},
   "source": [
    "## **モデルの構築**"
   ]
  },
  {
   "cell_type": "markdown",
   "metadata": {},
   "source": [
    "前日の20時までの河口個のアメダスデータを用いて翌日の00:00~23:30を予測する\n",
    "(例)\n",
    "\n",
    "8/17の00:00 ~ 23:30を予測するとき\n",
    "\n",
    "8/17の23:30を8/15 20:00 ~ 8/16 20:00\n",
    "\n",
    "8/17の23:00を8/15 19:30 ~ 8/16 19:30\n",
    "\n",
    "....\n",
    "\n",
    "8/17の00:00を8/14 20:30 ~ 8/15 20:30で予測する\n",
    "\n",
    "参考サイト：http://www.madopro.net/entry/char_level_lm_with_simple_rnn"
   ]
  },
  {
   "cell_type": "code",
   "execution_count": 76,
   "metadata": {
    "collapsed": true
   },
   "outputs": [],
   "source": [
    "class simpleRNN:\n",
    "    def __init__(self):\n",
    "        self.input_layer_size = 1\n",
    "        self.hidden_layer_size = 10\n",
    "        self.output_layer_size = 1\n",
    "        self.batch_size = 128\n",
    "        self.chunk_size = 5\n",
    "        self.learning_rate = 0.001\n",
    "        self.epochs = 1000\n",
    "        \n",
    "    def inference(self, input_data, initial_state):\n",
    "        \"\"\"\n",
    "        input_data: (batch_size, chunk_size, input_layer_size = vocabulary_size) 次元のテンソル\n",
    "        initial_state: (batch_size, hidden_layer_size) 次元の行列\n",
    "        \"\"\"\n",
    "        \n",
    "        # 重みとバイアスの初期化\n",
    "        hidden_w = tf.Variable(tf.truncated_normal([self.input_layer_size, self.hidden_layer_size], stddev=0.01))\n",
    "        hidden_b = tf.Variable(tf.ones([self.hidden_layer_size]))\n",
    "        output_w = tf.Variable(tf.truncated_normal([self.hidden_layer_size, self.output_layer_size], srddev=0.01))\n",
    "        output_b = tf.Variable(tf.ones([self.output_layer_size]))\n",
    "        \n",
    "        # BasicRNNCellを定義\n",
    "        cell = tf.nn.rnn_cell.BasicRNNCell(self.hidden_layer_size)\n",
    "        outputs, states = tf.nn.rnn(cell, input_data, initial_state=initial_state)\n",
    "        \n",
    "    def loss(self, output, actual_value):\n",
    "        cost = tf.reduce_mean(tf.abs(output - actual_value))\n",
    "        return cost\n",
    "    \n",
    "    def training(self, cost):\n",
    "        optimizer = tf.train.AdamOptimizer(learning_rate=self.learning_rate).minimize(cost)\n",
    "        return optimizer\n",
    "    \n",
    "    def train(self):\n",
    "        # 変数の用意\n",
    "        input_data = tf.placeholder('float', [None, self.chunk_size, self.input_layer_size])\n",
    "        actual_value = tf.placeholder('float', [None, self.output_layer_size])\n",
    "        initial_state = tf.placeholder('float', [None, self.hidden_layer_size])\n",
    "        \n",
    "        prediction = self.inference(input_data, initial_state)\n",
    "        cost = self.loss(prediction, actual_value)\n",
    "        optimizer = self.training(cost)\n",
    "    \n",
    "        # TensorBoardで可視化する\n",
    "        tf.summary.scalar(\"AME\", cost)\n",
    "        summary = tf.summary.merge_all()\n",
    "    \n",
    "        # 訓練データとテストデータを用意する\n",
    "        trX = \n",
    "        \n",
    "        \n",
    "        # ログを保存するためのディレクトリ\n",
    "        timestamp = time.time()\n",
    "        dirname = datetime.datetime.fromtimestamp(timestamp).strftime(\"%Y%m%d%H%M%S\")\n"
   ]
  },
  {
   "cell_type": "code",
   "execution_count": 74,
   "metadata": {},
   "outputs": [
    {
     "name": "stdout",
     "output_type": "stream",
     "text": [
      "1.0\n"
     ]
    }
   ],
   "source": [
    "x = tf.placeholder(tf.float32)\n",
    "y = tf.placeholder(tf.float32)\n",
    "\n",
    "loss = tf.reduce_mean(tf.abs(x - y))\n",
    "\n",
    "with tf.Session() as sess:\n",
    "    print(sess.run(loss, feed_dict = {x: [1, 2, 3], y : [3, 3, 3]}))"
   ]
  },
  {
   "cell_type": "code",
   "execution_count": 108,
   "metadata": {},
   "outputs": [],
   "source": [
    "output = list(output_data['SOLA01'])"
   ]
  },
  {
   "cell_type": "code",
   "execution_count": 115,
   "metadata": {},
   "outputs": [
    {
     "data": {
      "text/plain": [
       "datetime\n",
       "2012-01-01 00:00:00      0.000000\n",
       "2012-01-01 00:30:00      0.000000\n",
       "2012-01-01 01:00:00      0.000000\n",
       "2012-01-01 01:30:00      0.000000\n",
       "2012-01-01 02:00:00      0.000000\n",
       "2012-01-01 02:30:00      0.000000\n",
       "2012-01-01 03:00:00      0.000000\n",
       "2012-01-01 03:30:00      0.000000\n",
       "2012-01-01 04:00:00      0.000000\n",
       "2012-01-01 04:30:00      0.000000\n",
       "2012-01-01 05:00:00      0.000000\n",
       "2012-01-01 05:30:00      0.000000\n",
       "2012-01-01 06:00:00      0.000000\n",
       "2012-01-01 06:30:00      0.000000\n",
       "2012-01-01 07:00:00      0.000000\n",
       "2012-01-01 07:30:00    166.666667\n",
       "2012-01-01 08:00:00    400.000000\n",
       "2012-01-01 08:30:00    413.333333\n",
       "2012-01-01 09:00:00    576.666667\n",
       "2012-01-01 09:30:00    600.000000\n",
       "2012-01-01 10:00:00    600.000000\n",
       "2012-01-01 10:30:00    600.000000\n",
       "2012-01-01 11:00:00    600.000000\n",
       "2012-01-01 11:30:00    600.000000\n",
       "2012-01-01 12:00:00    600.000000\n",
       "2012-01-01 12:30:00    483.333333\n",
       "2012-01-01 13:00:00    586.666667\n",
       "2012-01-01 13:30:00    483.333333\n",
       "2012-01-01 14:00:00    536.666667\n",
       "2012-01-01 14:30:00    560.000000\n",
       "                          ...    \n",
       "2017-03-31 09:00:00      0.000000\n",
       "2017-03-31 09:30:00      0.000000\n",
       "2017-03-31 10:00:00      0.000000\n",
       "2017-03-31 10:30:00      0.000000\n",
       "2017-03-31 11:00:00      0.000000\n",
       "2017-03-31 11:30:00      0.000000\n",
       "2017-03-31 12:00:00      0.000000\n",
       "2017-03-31 12:30:00      0.000000\n",
       "2017-03-31 13:00:00      0.000000\n",
       "2017-03-31 13:30:00      0.000000\n",
       "2017-03-31 14:00:00      0.000000\n",
       "2017-03-31 14:30:00      0.000000\n",
       "2017-03-31 15:00:00      0.000000\n",
       "2017-03-31 15:30:00      0.000000\n",
       "2017-03-31 16:00:00      0.000000\n",
       "2017-03-31 16:30:00      0.000000\n",
       "2017-03-31 17:00:00      0.000000\n",
       "2017-03-31 17:30:00      0.000000\n",
       "2017-03-31 18:00:00      0.000000\n",
       "2017-03-31 18:30:00      0.000000\n",
       "2017-03-31 19:00:00      0.000000\n",
       "2017-03-31 19:30:00      0.000000\n",
       "2017-03-31 20:00:00      0.000000\n",
       "2017-03-31 20:30:00      0.000000\n",
       "2017-03-31 21:00:00      0.000000\n",
       "2017-03-31 21:30:00      0.000000\n",
       "2017-03-31 22:00:00      0.000000\n",
       "2017-03-31 22:30:00      0.000000\n",
       "2017-03-31 23:00:00      0.000000\n",
       "2017-03-31 23:30:00      0.000000\n",
       "Freq: 1800S, Name: sl, Length: 92016, dtype: float64"
      ]
     },
     "execution_count": 115,
     "metadata": {},
     "output_type": "execute_result"
    }
   ],
   "source": [
    "amd_data['sl']"
   ]
  },
  {
   "cell_type": "code",
   "execution_count": 103,
   "metadata": {},
   "outputs": [
    {
     "data": {
      "text/plain": [
       "Int64Index([52607], dtype='int64')"
      ]
     },
     "execution_count": 103,
     "metadata": {},
     "output_type": "execute_result"
    }
   ],
   "source": [
    "output_data[output_data['datetime'] == pd.to_datetime('2014-12-31 23:30')].index"
   ]
  },
  {
   "cell_type": "code",
   "execution_count": 128,
   "metadata": {},
   "outputs": [
    {
     "data": {
      "text/plain": [
       "[<matplotlib.lines.Line2D at 0x12541c5f8>]"
      ]
     },
     "execution_count": 128,
     "metadata": {},
     "output_type": "execute_result"
    },
    {
     "data": {
      "image/png": "[encoded data removed]",
      "text/plain": [
       "<matplotlib.figure.Figure at 0x126753748>"
      ]
     },
     "metadata": {},
     "output_type": "display_data"
    }
   ],
   "source": [
    "plt.plot(output_data['SOLA01'][0:100])"
   ]
  },
  {
   "cell_type": "code",
   "execution_count": 129,
   "metadata": {},
   "outputs": [
    {
     "data": {
      "text/plain": [
       "[<matplotlib.lines.Line2D at 0x11ad646d8>]"
      ]
     },
     "execution_count": 129,
     "metadata": {},
     "output_type": "execute_result"
    },
    {
     "data": {
      "image/png": "[encoded data removed]",
      "text/plain": [
       "<matplotlib.figure.Figure at 0x125453668>"
      ]
     },
     "metadata": {},
     "output_type": "display_data"
    }
   ],
   "source": [
    "plt.plot(amd_data['sl'][0:100])"
   ]
  },
  {
   "cell_type": "code",
   "execution_count": null,
   "metadata": {
    "collapsed": true
   },
   "outputs": [],
   "source": []
  }
 ],
 "metadata": {
  "kernelspec": {
   "display_name": "Python 3",
   "language": "python",
   "name": "python3"
  },
  "language_info": {
   "codemirror_mode": {
    "name": "ipython",
    "version": 3
   },
   "file_extension": ".py",
   "mimetype": "text/x-python",
   "name": "python",
   "nbconvert_exporter": "python",
   "pygments_lexer": "ipython3",
   "version": "3.6.2"
  }
 },
 "nbformat": 4,
 "nbformat_minor": 2
}
