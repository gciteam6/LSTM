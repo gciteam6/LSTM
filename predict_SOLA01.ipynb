{
 "cells": [
  {
   "cell_type": "markdown",
   "metadata": {},
   "source": [
    "# **浮島発電所の発電量を予測してみる**"
   ]
  },
  {
   "cell_type": "markdown",
   "metadata": {},
   "source": [
    "### **必要な関数・ライブラリ等の準備**"
   ]
  },
  {
   "cell_type": "code",
   "execution_count": 48,
   "metadata": {
    "collapsed": true
   },
   "outputs": [],
   "source": [
    "# データ加工・処理・分析モジュール\n",
    "import numpy as np\n",
    "import pandas as pd\n",
    "import tensorflow as tf\n",
    "import matplotlib.pyplot as plt\n",
    "from sklearn.model_selection import train_test_split\n",
    "import random\n",
    "\n",
    "%matplotlib inline\n",
    "\n",
    "import time"
   ]
  },
  {
   "cell_type": "code",
   "execution_count": 49,
   "metadata": {
    "collapsed": true
   },
   "outputs": [],
   "source": [
    "def set_time(dataframe, col_name):\n",
    "    '''\n",
    "    to_datetimeを使うための前処理\n",
    "    '''\n",
    "    dataframe[col_name] = dataframe[col_name].map(lambda x : transform_time(x))\n",
    "    return dataframe"
   ]
  },
  {
   "cell_type": "code",
   "execution_count": 50,
   "metadata": {
    "collapsed": true
   },
   "outputs": [],
   "source": [
    "def transform_time(x):\n",
    "    '''\n",
    "    set_time内で使う関数\n",
    "    to_datetimeで24時をサポートしないので00に変更する処理\n",
    "    '''\n",
    "    str_x = str(x)\n",
    "    res = ''\n",
    "    if str(x)[8:10] == '24':\n",
    "        res = str_x[0:4] + '-' + str_x[4:6] + '-' + str_x[6:8] + ' 00:'+str_x[10:12] \n",
    "    else:\n",
    "        res = str_x[0:4] + '-' + str_x[4:6] + '-' + str_x[6:8] + ' '+ str_x[8:10] +':'+str_x[10:12]\n",
    "    return res"
   ]
  },
  {
   "cell_type": "code",
   "execution_count": 51,
   "metadata": {
    "collapsed": true
   },
   "outputs": [],
   "source": [
    "def normalize_array(x):\n",
    "    '''\n",
    "    min, max, min-max正規化を行なった配列(np.array)を返す\n",
    "    '''\n",
    "    x = np.array(x)\n",
    "    x_min = x.min()\n",
    "    x_max = x.max()\n",
    "    normalized = (x - x_min) / (x_max - x_min) \n",
    "    return x_min, x_max, normalized"
   ]
  },
  {
   "cell_type": "code",
   "execution_count": 52,
   "metadata": {
    "collapsed": true
   },
   "outputs": [],
   "source": [
    "def denormalize_array(normalized_x, x_min, x_max):\n",
    "    '''\n",
    "    正規化前のmin, maxを用いて元のスケールに戻す\n",
    "    '''\n",
    "    normalized_x = np.array(normalized_x)\n",
    "    denormalize_array = (normalized_x) * (x_max - x_min) + x_min\n",
    "    return denormalize_array"
   ]
  },
  {
   "cell_type": "code",
   "execution_count": 53,
   "metadata": {
    "collapsed": true
   },
   "outputs": [],
   "source": [
    "def standardize_array(x):\n",
    "    '''\n",
    "    mean, sigma, 標準化された配列を返す\n",
    "    '''\n",
    "    x = np.array(x)\n",
    "    x_mean = x.mean()\n",
    "    x_sigma = x.std()\n",
    "    standardized_array = (x - x_mean) / x_sigma\n",
    "    return x_mean, x_sigma, standardized_array"
   ]
  },
  {
   "cell_type": "code",
   "execution_count": 54,
   "metadata": {
    "collapsed": true
   },
   "outputs": [],
   "source": [
    "def destandardize_array(standardized_x, x_mean, x_sigma):\n",
    "    '''\n",
    "    標準化前のmean, sigma用いて元のスケールに戻す\n",
    "    '''\n",
    "    standardized_x = np.array(standardized_x)\n",
    "    destandardized_array = (standardized_x) * x_sigma + x_mean\n",
    "    return destandardized_array"
   ]
  },
  {
   "cell_type": "code",
   "execution_count": 55,
   "metadata": {
    "collapsed": true
   },
   "outputs": [],
   "source": [
    "def get_chunked_data(x, chunk_size):\n",
    "    '''\n",
    "    rnnに突っ込むためのchunk_sizeごとに区切った系列データを作る\n",
    "    '''\n",
    "    input_list = []\n",
    "    for i in range(0, len(x) - chunk_size + 1):\n",
    "        input_list.append(x[i : i + chunk_size])\n",
    "    input_list = np.array(input_list)\n",
    "    return input_list"
   ]
  },
  {
   "cell_type": "code",
   "execution_count": 91,
   "metadata": {
    "collapsed": true
   },
   "outputs": [],
   "source": [
    "def drop_nan(X, Y):\n",
    "    '''\n",
    "    正解データがnanであるデータの組を削除\n",
    "    '''\n",
    "    mask = np.isnan(Y)\n",
    "    X = X[~mask]\n",
    "    Y = Y[~mask]\n",
    "    return X, Y"
   ]
  },
  {
   "cell_type": "markdown",
   "metadata": {},
   "source": [
    "## **データの準備**"
   ]
  },
  {
   "cell_type": "code",
   "execution_count": 56,
   "metadata": {},
   "outputs": [
    {
     "data": {
      "text/html": [
       "<div>\n",
       "<style>\n",
       "    .dataframe thead tr:only-child th {\n",
       "        text-align: right;\n",
       "    }\n",
       "\n",
       "    .dataframe thead th {\n",
       "        text-align: left;\n",
       "    }\n",
       "\n",
       "    .dataframe tbody tr th {\n",
       "        vertical-align: top;\n",
       "    }\n",
       "</style>\n",
       "<table border=\"1\" class=\"dataframe\">\n",
       "  <thead>\n",
       "    <tr style=\"text-align: right;\">\n",
       "      <th></th>\n",
       "      <th>datetime</th>\n",
       "      <th>SOLA01</th>\n",
       "      <th>SOLA02</th>\n",
       "      <th>SOLA03</th>\n",
       "    </tr>\n",
       "  </thead>\n",
       "  <tbody>\n",
       "    <tr>\n",
       "      <th>0</th>\n",
       "      <td>2012-01-01 00:00:00</td>\n",
       "      <td>0</td>\n",
       "      <td>0.0</td>\n",
       "      <td>NaN</td>\n",
       "    </tr>\n",
       "    <tr>\n",
       "      <th>1</th>\n",
       "      <td>2012-01-01 00:30:00</td>\n",
       "      <td>0</td>\n",
       "      <td>0.0</td>\n",
       "      <td>NaN</td>\n",
       "    </tr>\n",
       "    <tr>\n",
       "      <th>2</th>\n",
       "      <td>2012-01-01 01:00:00</td>\n",
       "      <td>0</td>\n",
       "      <td>0.0</td>\n",
       "      <td>NaN</td>\n",
       "    </tr>\n",
       "    <tr>\n",
       "      <th>3</th>\n",
       "      <td>2012-01-01 01:30:00</td>\n",
       "      <td>0</td>\n",
       "      <td>0.0</td>\n",
       "      <td>NaN</td>\n",
       "    </tr>\n",
       "    <tr>\n",
       "      <th>4</th>\n",
       "      <td>2012-01-01 02:00:00</td>\n",
       "      <td>0</td>\n",
       "      <td>0.0</td>\n",
       "      <td>NaN</td>\n",
       "    </tr>\n",
       "  </tbody>\n",
       "</table>\n",
       "</div>"
      ],
      "text/plain": [
       "             datetime  SOLA01  SOLA02  SOLA03\n",
       "0 2012-01-01 00:00:00       0     0.0     NaN\n",
       "1 2012-01-01 00:30:00       0     0.0     NaN\n",
       "2 2012-01-01 01:00:00       0     0.0     NaN\n",
       "3 2012-01-01 01:30:00       0     0.0     NaN\n",
       "4 2012-01-01 02:00:00       0     0.0     NaN"
      ]
     },
     "execution_count": 56,
     "metadata": {},
     "output_type": "execute_result"
    }
   ],
   "source": [
    "# 正解データを作る\n",
    "try:\n",
    "    true_output = pd.read_csv('data/processed_data/output_by30.tsv', delimiter = '\\t')\n",
    "    true_output['datetime'] = true_output['datetime'].map(lambda x : pd.to_datetime(x))\n",
    "    \n",
    "except:\n",
    "    # train_kwhをエクセル等で開くとdatetimeが指数表示に直される可能性がある\n",
    "    # その場合うまくいかないので201201010120の形になってることを確認する必要あり\n",
    "    true_output = pd.read_csv('data/raw_data/train_kwh.tsv', delimiter = '\\t')\n",
    "\n",
    "    # datetimeの行をpd.Timestampのインスタンスに変更\n",
    "    true_output = set_time(true_output, 'datetime')\n",
    "    true_output['datetime'] = true_output['datetime'].map(lambda x : pd.to_datetime(x))\n",
    "\n",
    "    # 30分ごとに合計を集計\n",
    "    true_output = true_output.set_index('datetime').groupby(pd.TimeGrouper(freq='1800s', closed='left')).sum()\n",
    "\n",
    "    true_output.to_csv('data/processed_data/output_by30.tsv', sep='\\t') \n",
    "    \n",
    "    true_output = pd.read_csv('data/processed_data/output_by30.tsv', delimiter = '\\t')\n",
    "    true_output['datetime'] = true_output['datetime'].map(lambda x : pd.to_datetime(x))\n",
    "    \n",
    "true_output.head()"
   ]
  },
  {
   "cell_type": "code",
   "execution_count": 57,
   "metadata": {
    "scrolled": true
   },
   "outputs": [
    {
     "data": {
      "text/html": [
       "<div>\n",
       "<style>\n",
       "    .dataframe thead tr:only-child th {\n",
       "        text-align: right;\n",
       "    }\n",
       "\n",
       "    .dataframe thead th {\n",
       "        text-align: left;\n",
       "    }\n",
       "\n",
       "    .dataframe tbody tr th {\n",
       "        vertical-align: top;\n",
       "    }\n",
       "</style>\n",
       "<table border=\"1\" class=\"dataframe\">\n",
       "  <thead>\n",
       "    <tr style=\"text-align: right;\">\n",
       "      <th></th>\n",
       "      <th>datetime</th>\n",
       "      <th>SOLA01</th>\n",
       "      <th>SOLA02</th>\n",
       "      <th>SOLA03</th>\n",
       "    </tr>\n",
       "  </thead>\n",
       "  <tbody>\n",
       "    <tr>\n",
       "      <th>0</th>\n",
       "      <td>2012-01-01 00:10:00</td>\n",
       "      <td>0</td>\n",
       "      <td>0.0</td>\n",
       "      <td>NaN</td>\n",
       "    </tr>\n",
       "    <tr>\n",
       "      <th>1</th>\n",
       "      <td>2012-01-01 00:20:00</td>\n",
       "      <td>0</td>\n",
       "      <td>0.0</td>\n",
       "      <td>NaN</td>\n",
       "    </tr>\n",
       "    <tr>\n",
       "      <th>2</th>\n",
       "      <td>2012-01-01 00:30:00</td>\n",
       "      <td>0</td>\n",
       "      <td>0.0</td>\n",
       "      <td>NaN</td>\n",
       "    </tr>\n",
       "    <tr>\n",
       "      <th>3</th>\n",
       "      <td>2012-01-01 00:40:00</td>\n",
       "      <td>0</td>\n",
       "      <td>0.0</td>\n",
       "      <td>NaN</td>\n",
       "    </tr>\n",
       "    <tr>\n",
       "      <th>4</th>\n",
       "      <td>2012-01-01 00:50:00</td>\n",
       "      <td>0</td>\n",
       "      <td>0.0</td>\n",
       "      <td>NaN</td>\n",
       "    </tr>\n",
       "  </tbody>\n",
       "</table>\n",
       "</div>"
      ],
      "text/plain": [
       "             datetime  SOLA01  SOLA02  SOLA03\n",
       "0 2012-01-01 00:10:00       0     0.0     NaN\n",
       "1 2012-01-01 00:20:00       0     0.0     NaN\n",
       "2 2012-01-01 00:30:00       0     0.0     NaN\n",
       "3 2012-01-01 00:40:00       0     0.0     NaN\n",
       "4 2012-01-01 00:50:00       0     0.0     NaN"
      ]
     },
     "execution_count": 57,
     "metadata": {},
     "output_type": "execute_result"
    }
   ],
   "source": [
    "# 10分単位の発電量のデータを取ってくる\n",
    "output_data = pd.read_csv('data/raw_data/train_kwh.tsv', delimiter = '\\t')\n",
    "\n",
    "# datetimeの行をpd.Timestampのインスタンスに変更\n",
    "output_data = set_time(output_data, 'datetime')\n",
    "output_data['datetime'] = output_data['datetime'].map(lambda x : pd.to_datetime(x))\n",
    "    \n",
    "output_data.head()"
   ]
  },
  {
   "cell_type": "code",
   "execution_count": 107,
   "metadata": {},
   "outputs": [],
   "source": [
    "# 予測する発電所番号を決める\n",
    "target_place = 2\n",
    "model_name = \"model_\"+str(target_place)"
   ]
  },
  {
   "cell_type": "code",
   "execution_count": 58,
   "metadata": {
    "scrolled": true
   },
   "outputs": [
    {
     "data": {
      "text/html": [
       "<div>\n",
       "<style>\n",
       "    .dataframe thead tr:only-child th {\n",
       "        text-align: right;\n",
       "    }\n",
       "\n",
       "    .dataframe thead th {\n",
       "        text-align: left;\n",
       "    }\n",
       "\n",
       "    .dataframe tbody tr th {\n",
       "        vertical-align: top;\n",
       "    }\n",
       "</style>\n",
       "<table border=\"1\" class=\"dataframe\">\n",
       "  <thead>\n",
       "    <tr style=\"text-align: right;\">\n",
       "      <th></th>\n",
       "      <th>datetime</th>\n",
       "      <th>pr</th>\n",
       "      <th>f_pr</th>\n",
       "      <th>max_ws</th>\n",
       "      <th>f_max_ws</th>\n",
       "      <th>ave_wv</th>\n",
       "      <th>f_ave_wv</th>\n",
       "      <th>ave_ws</th>\n",
       "      <th>f_ave_ws</th>\n",
       "      <th>max_tp</th>\n",
       "      <th>f_max_tp</th>\n",
       "      <th>min_tp</th>\n",
       "      <th>f_min_tp</th>\n",
       "      <th>sl</th>\n",
       "      <th>f_sl</th>\n",
       "      <th>sd</th>\n",
       "      <th>f_sd</th>\n",
       "      <th>dsd</th>\n",
       "      <th>f_dsd</th>\n",
       "    </tr>\n",
       "  </thead>\n",
       "  <tbody>\n",
       "    <tr>\n",
       "      <th>0</th>\n",
       "      <td>2012-01-01 00:10:00</td>\n",
       "      <td>0</td>\n",
       "      <td>0</td>\n",
       "      <td>48.0</td>\n",
       "      <td>0</td>\n",
       "      <td>36.0</td>\n",
       "      <td>0</td>\n",
       "      <td>32.0</td>\n",
       "      <td>0</td>\n",
       "      <td>57.0</td>\n",
       "      <td>0</td>\n",
       "      <td>56.0</td>\n",
       "      <td>0</td>\n",
       "      <td>0.0</td>\n",
       "      <td>2</td>\n",
       "      <td>0.0</td>\n",
       "      <td>0</td>\n",
       "      <td>0.0</td>\n",
       "      <td>0</td>\n",
       "    </tr>\n",
       "    <tr>\n",
       "      <th>1</th>\n",
       "      <td>2012-01-01 00:20:00</td>\n",
       "      <td>0</td>\n",
       "      <td>0</td>\n",
       "      <td>48.0</td>\n",
       "      <td>0</td>\n",
       "      <td>36.0</td>\n",
       "      <td>0</td>\n",
       "      <td>35.0</td>\n",
       "      <td>0</td>\n",
       "      <td>56.0</td>\n",
       "      <td>0</td>\n",
       "      <td>55.0</td>\n",
       "      <td>0</td>\n",
       "      <td>0.0</td>\n",
       "      <td>2</td>\n",
       "      <td>0.0</td>\n",
       "      <td>0</td>\n",
       "      <td>0.0</td>\n",
       "      <td>0</td>\n",
       "    </tr>\n",
       "    <tr>\n",
       "      <th>2</th>\n",
       "      <td>2012-01-01 00:30:00</td>\n",
       "      <td>0</td>\n",
       "      <td>0</td>\n",
       "      <td>49.0</td>\n",
       "      <td>0</td>\n",
       "      <td>36.0</td>\n",
       "      <td>0</td>\n",
       "      <td>32.0</td>\n",
       "      <td>0</td>\n",
       "      <td>56.0</td>\n",
       "      <td>0</td>\n",
       "      <td>55.0</td>\n",
       "      <td>0</td>\n",
       "      <td>0.0</td>\n",
       "      <td>2</td>\n",
       "      <td>0.0</td>\n",
       "      <td>0</td>\n",
       "      <td>0.0</td>\n",
       "      <td>0</td>\n",
       "    </tr>\n",
       "    <tr>\n",
       "      <th>3</th>\n",
       "      <td>2012-01-01 00:40:00</td>\n",
       "      <td>0</td>\n",
       "      <td>0</td>\n",
       "      <td>49.0</td>\n",
       "      <td>0</td>\n",
       "      <td>35.0</td>\n",
       "      <td>0</td>\n",
       "      <td>35.0</td>\n",
       "      <td>0</td>\n",
       "      <td>56.0</td>\n",
       "      <td>0</td>\n",
       "      <td>54.0</td>\n",
       "      <td>0</td>\n",
       "      <td>0.0</td>\n",
       "      <td>2</td>\n",
       "      <td>0.0</td>\n",
       "      <td>0</td>\n",
       "      <td>0.0</td>\n",
       "      <td>0</td>\n",
       "    </tr>\n",
       "    <tr>\n",
       "      <th>4</th>\n",
       "      <td>2012-01-01 00:50:00</td>\n",
       "      <td>0</td>\n",
       "      <td>0</td>\n",
       "      <td>61.0</td>\n",
       "      <td>0</td>\n",
       "      <td>35.0</td>\n",
       "      <td>0</td>\n",
       "      <td>34.0</td>\n",
       "      <td>0</td>\n",
       "      <td>55.0</td>\n",
       "      <td>0</td>\n",
       "      <td>53.0</td>\n",
       "      <td>0</td>\n",
       "      <td>0.0</td>\n",
       "      <td>2</td>\n",
       "      <td>0.0</td>\n",
       "      <td>0</td>\n",
       "      <td>0.0</td>\n",
       "      <td>0</td>\n",
       "    </tr>\n",
       "  </tbody>\n",
       "</table>\n",
       "</div>"
      ],
      "text/plain": [
       "             datetime  pr  f_pr  max_ws  f_max_ws  ave_wv  f_ave_wv  ave_ws  \\\n",
       "0 2012-01-01 00:10:00   0     0    48.0         0    36.0         0    32.0   \n",
       "1 2012-01-01 00:20:00   0     0    48.0         0    36.0         0    35.0   \n",
       "2 2012-01-01 00:30:00   0     0    49.0         0    36.0         0    32.0   \n",
       "3 2012-01-01 00:40:00   0     0    49.0         0    35.0         0    35.0   \n",
       "4 2012-01-01 00:50:00   0     0    61.0         0    35.0         0    34.0   \n",
       "\n",
       "   f_ave_ws  max_tp  f_max_tp  min_tp  f_min_tp   sl  f_sl   sd  f_sd  dsd  \\\n",
       "0         0    57.0         0    56.0         0  0.0     2  0.0     0  0.0   \n",
       "1         0    56.0         0    55.0         0  0.0     2  0.0     0  0.0   \n",
       "2         0    56.0         0    55.0         0  0.0     2  0.0     0  0.0   \n",
       "3         0    56.0         0    54.0         0  0.0     2  0.0     0  0.0   \n",
       "4         0    55.0         0    53.0         0  0.0     2  0.0     0  0.0   \n",
       "\n",
       "   f_dsd  \n",
       "0      0  \n",
       "1      0  \n",
       "2      0  \n",
       "3      0  \n",
       "4      0  "
      ]
     },
     "execution_count": 58,
     "metadata": {},
     "output_type": "execute_result"
    }
   ],
   "source": [
    "# アメダスデータの読み込み\n",
    "\n",
    "if target_place == 1 or target_place == 2:\n",
    "    # 横浜アメダスのデータを使って予測する, amd_46106\n",
    "    # 各amdidはamd_masterに記載されている\n",
    "    amd_data = pd.read_csv('data/raw_data/amd_46106.tsv', delimiter = '\\t')\n",
    "    amd_data = set_time(amd_data, 'datetime')\n",
    "    amd_data['datetime'] = amd_data['datetime'].map(lambda x : pd.to_datetime(x))\n",
    "    amd_data.head()\n",
    "else target_place == 3:\n",
    "    # 甲府アメダスのデータを使って予測する, amd_49142\n",
    "    # 各amdidはamd_masterに記載されている\n",
    "    amd_data = pd.read_csv('data/raw_data/amd_49142.tsv', delimiter = '\\t')\n",
    "    amd_data = set_time(amd_data, 'datetime')\n",
    "    amd_data['datetime'] = amd_data['datetime'].map(lambda x : pd.to_datetime(x))\n",
    "    amd_data.head()"
   ]
  },
  {
   "cell_type": "code",
   "execution_count": 65,
   "metadata": {
    "collapsed": true
   },
   "outputs": [],
   "source": [
    "# モデル構築のためにデータを分割する\n",
    "\n",
    "# 日射量の欠損値を一つ前の値で置換/output_data\n",
    "amd_data['sl'] = amd_data['sl'].fillna(method='bfill')\n",
    "amd_data['max_tp'] = amd_data['max_tp'].fillna(method='bfill')\n",
    "\n",
    "# 学習に必要なデータ\n",
    "# 2012/01/01 00:10 ~ 2015/12/30 20:00のamdデータを用いて\n",
    "# 2012/01/03 03:50 ~ 2015/12/31 23:50のデータを予測する\n",
    "train_x_startID = amd_data[amd_data['datetime'] == pd.to_datetime('2012-01-01 00:10')].index[0]\n",
    "train_x_endID = amd_data[amd_data['datetime'] == pd.to_datetime('2015-12-30 20:00')].index[0]\n",
    "train_y_startID = amd_data[amd_data['datetime'] == pd.to_datetime('2012-01-03 03:50')].index[0]\n",
    "train_y_endID = amd_data[amd_data['datetime'] == pd.to_datetime('2015-12-31 23:50')].index[0]\n",
    "\n",
    "train_amd_data = amd_data[['sl', 'max_tp']][train_x_startID:(train_x_endID+1)]\n",
    "train_output_data = np.array(output_data['SOLA0'+str(target_place)][train_y_startID:(train_y_endID+1)])\n",
    "\n",
    "# 予測に必要なデータ\n",
    "# 2015/12/29 20:30 ~ 2017/3/30 20:00のamdデータを用いて\n",
    "# 2016/01/01 00:00 ~ 2017/3/31 23:50のoutputデータを予測する\n",
    "test_startID = amd_data[amd_data['datetime'] == pd.to_datetime('2015-12-29 20:50')].index[0]\n",
    "test_endID = amd_data[amd_data['datetime'] == pd.to_datetime('2017-3-30 20:00')].index[0]\n",
    "\n",
    "test_amd_data = amd_data[['sl', 'max_tp']][test_startID:(test_endID+1)]"
   ]
  },
  {
   "cell_type": "code",
   "execution_count": 99,
   "metadata": {},
   "outputs": [
    {
     "name": "stderr",
     "output_type": "stream",
     "text": [
      "/Users/kyojin/anaconda/envs/tf/lib/python3.5/site-packages/ipykernel_launcher.py:6: VisibleDeprecationWarning: boolean index did not match indexed array along dimension 0; dimension is 210073 but corresponding boolean dimension is 209353\n",
      "  \n"
     ]
    }
   ],
   "source": [
    "# rnnに突っ込むための準備\n",
    "\n",
    "chunk_size = 144\n",
    "\n",
    "# rnnに突っ込むためにmin-max正規化しておく\n",
    "normalized_amd = (train_amd_data - train_amd_data.min()) / (train_amd_data.max() - train_amd_data.min())\n",
    "normalized_amd = np.array(normalized_amd)\n",
    "normalized_test_amd = (test_amd_data - test_amd_data.min()) / (test_amd_data.max() - test_amd_data.min())\n",
    "normalized_test_amd = np.array(normalized_test_amd)\n",
    "\n",
    "#時系列データのリストにする\n",
    "input_list = get_chunked_data(normalized_amd, chunk_size)\n",
    "\n",
    "# outputがnanである学習ペアを取り除く\n",
    "input_list, train_output_data = drop_nan(input_list, train_output_data)\n",
    "\n",
    "# outputのmin_max正規化\n",
    "output_min, output_max, normalized_output = normalize_array(train_output_data)\n",
    "\n",
    "# testデータの入力を用意\n",
    "test_input_list = get_chunked_data(normalized_test_amd, chunk_size)\n",
    "\n",
    "# RNNに突っ込むためにデータを整形\n",
    "X = np.array(input_list).reshape(len(input_list), chunk_size, input_list.shape[2])\n",
    "Y = np.array(normalized_output).reshape(len(input_list), 1)\n",
    "X_predict = np.array(test_input_list).reshape(len(test_input_list), chunk_size, test_input_list.shape[2])"
   ]
  },
  {
   "cell_type": "markdown",
   "metadata": {},
   "source": [
    "### **モデルの構築**"
   ]
  },
  {
   "cell_type": "markdown",
   "metadata": {},
   "source": [
    "前日の20時までの横浜のアメダスの日射量データを用いて翌日の00:00~23:50を予測する\n",
    "\n",
    "前日の20時までのデータしか使えないので川崎近くのアメダスデータを使うのは予測として適切か疑問だったのでとりあえず1日程度ラグがありそうな(※要出典)ここのデータをつかう\n",
    "\n",
    "(例)\n",
    "\n",
    "8/17の00:00 ~ 23:50を予測するとき\n",
    "\n",
    "8/17の23:50を8/15 20:10 ~ 8/16 20:00\n",
    "\n",
    "8/17の23:40を8/15 20:00 ~ 8/16 19:50\n",
    "\n",
    "....\n",
    "\n",
    "8/17の00:00を8/14 20:00 ~ 8/15 20:10で予測する\n",
    "\n",
    "参考サイト：http://www.madopro.net/entry/char_level_lm_with_simple_rnn\n",
    "\n",
    "　　　　　　https://qiita.com/yukiB/items/f6314d2861fc8d9b739f\n",
    "\n",
    "          https://www.tensorflow.org/install/migration\n",
    "          "
   ]
  },
  {
   "cell_type": "code",
   "execution_count": 101,
   "metadata": {
    "collapsed": true
   },
   "outputs": [],
   "source": [
    "class simpleLSTM:\n",
    "    def __init__(self, X, Y, epochs = 100, magni = 1, model_name = \"test_model\"):\n",
    "        # 学習データと検証用データに分けておく\n",
    "        X_train, X_val, Y_train, Y_val = train_test_split(X, Y, test_size=int((X.shape[0] * 0.1)))\n",
    "        self.X = X # 入力\n",
    "        self.Y = Y # 教師\n",
    "        self.X_val = X_val # 検証用\n",
    "        self.Y_val = Y_val #検証用\n",
    "        \n",
    "        '''\n",
    "        諸変数の設定\n",
    "        '''\n",
    "        self.input_layer_size = self.X.shape[2] #入力層の数、一つ一つのデータはslの値ひとつだけなので1\n",
    "        self.hidden_layer_size = 200 # 隠れ層の数、適当\n",
    "        self.output_layer_size = 1 #出力層の数、求める値は時間あたりの発電量の値1つなので1\n",
    "        self.batch_size = 200 #バッチサイズ、適当\n",
    "        self.chunk_size = self.X.shape[1] # 一回の系列データの長さ\n",
    "        self.learning_rate = 0.01 # 学習率 適当\n",
    "        self.forget_bias = 0.9  # 忘却率\n",
    "        self.magni = magni #lossの拡大倍率\n",
    "        self.epochs = epochs #エポック数\n",
    "        \n",
    "        # 学習データの保存\n",
    "        self.model_name = str(model_name)\n",
    "        \n",
    "        \n",
    "    def shuffle(self):\n",
    "        '''\n",
    "        ミニバッチかする際にランダムにシャッフル\n",
    "        '''\n",
    "        idx = [i for i in range(self.X.shape[0])]\n",
    "        np.random.shuffle(idx)\n",
    "        xs = np.array([[y for y in list(self.X[r])] for r in idx])\n",
    "        ys = np.array([self.Y[r] for r in idx])\n",
    "        return xs, ys\n",
    "        \n",
    "    def inference(self, input_ph, inistate_ph):\n",
    "        '''\n",
    "        グラフの構築\n",
    "        '''\n",
    "        \n",
    "        # 重みとバイアスの初期化\n",
    "        hidden_w = tf.Variable(tf.truncated_normal([self.input_layer_size, self.hidden_layer_size], stddev=0.01), name='hidden_w')\n",
    "        hidden_b = tf.Variable(tf.truncated_normal([self.hidden_layer_size]), name='hidden_b')\n",
    "        output_w = tf.Variable(tf.truncated_normal([self.hidden_layer_size, self.output_layer_size], stddev=0.01), name='output_w')\n",
    "        output_b = tf.Variable(tf.truncated_normal([self.output_layer_size]), name='output_b')\n",
    "        \n",
    "        #　input_phの整型  \n",
    "        in1 = tf.transpose(input_ph, [1, 0, 2]) \n",
    "        in2 = tf.reshape(in1, [-1, self.input_layer_size]) \n",
    "        in3 = tf.matmul(in2, hidden_w) + hidden_b\n",
    "        in4 = tf.split(in3, self.chunk_size, 0)\n",
    "          \n",
    "        # BasicLSTMCellを定義\n",
    "        cell = tf.contrib.rnn.BasicLSTMCell(self.hidden_layer_size, forget_bias=self.forget_bias, state_is_tuple=False)\n",
    "        rnn_outputs, states = tf.contrib.rnn.static_rnn(cell, in4, initial_state=inistate_ph)\n",
    "        output = tf.matmul(rnn_outputs[-1], output_w) + output_b\n",
    "        results = [hidden_w, output_w, hidden_w, hidden_b]\n",
    "        return output, states, results\n",
    "        \n",
    "    def loss(self, output_ph, actual_ph):\n",
    "        '''\n",
    "        お題と同じmean absolute errorを仕様\n",
    "        '''\n",
    "        cost = tf.reduce_mean(tf.abs(self.magni*(output_ph - actual_ph)))\n",
    "        tf.summary.scalar('loss', cost)\n",
    "        return cost\n",
    "    \n",
    "    def training(self, cost):\n",
    "        '''\n",
    "        adamを仕様beta1, beta2は元論文の推奨値を仕様\n",
    "        '''\n",
    "        with tf.name_scope(\"training\") as scope:\n",
    "            optimizer = tf.train.AdamOptimizer(learning_rate=self.learning_rate, beta1=0.9, beta2=0.999).minimize(cost)\n",
    "            return optimizer\n",
    "    \n",
    "    def train(self):\n",
    "        '''\n",
    "        学習\n",
    "        '''\n",
    "        random.seed(0)\n",
    "        np.random.seed(0)\n",
    "        tf.set_random_seed(0)\n",
    "        n_batch = self.X.shape[0] // self.batch_size\n",
    "        \n",
    "        with tf.Graph().as_default():\n",
    "            # 変数の用意\n",
    "            input_ph = tf.placeholder('float', [None, self.chunk_size, self.input_layer_size], name='input')\n",
    "            actual_ph = tf.placeholder('float', [None, self.output_layer_size], name='actual_value')\n",
    "            inistate_ph = tf.placeholder('float', [None, self.hidden_layer_size * 2], name='inistate')\n",
    "\n",
    "            prediction, state, weights = self.inference(input_ph, inistate_ph)\n",
    "            cost = self.loss(prediction, actual_ph)\n",
    "            optimizer = self.training(cost)\n",
    "\n",
    "            # TensorBoardで可視化する\n",
    "            summary = tf.summary.merge_all()\n",
    "            # 初期化\n",
    "            init = tf.global_variables_initializer()\n",
    "                \n",
    "            # ここから学習\n",
    "            with tf.Session() as sess:\n",
    "                # 学習したモデルも保存しておく\n",
    "                saver = tf.train.Saver()\n",
    "                summary_writer = tf.summary.FileWriter(\"/tmp/tensorflow_log\", graph=sess.graph)\n",
    "                sess.run(init)\n",
    "\n",
    "                for epoch in range(self.epochs):\n",
    "                    X_, Y_ = self.shuffle()\n",
    "                    for i in range(n_batch):\n",
    "                        start = i * self.batch_size\n",
    "                        end = start + self.batch_size\n",
    "                        inputs  = X_[start:end]\n",
    "                        actuals = Y_[start:end]\n",
    "                        train_dict = {\n",
    "                            input_ph:      inputs,\n",
    "                            actual_ph:     actuals,\n",
    "                            inistate_ph:     np.zeros((self.batch_size, self.hidden_layer_size * 2)),\n",
    "                        }\n",
    "                    \n",
    "                    sess.run(optimizer, feed_dict=train_dict)\n",
    "\n",
    "                    if (epoch) % (self.epochs//10) == 0:\n",
    "                        val_dict = {\n",
    "                            input_ph:      self.X_val,\n",
    "                            actual_ph:     self.Y_val,\n",
    "                            inistate_ph:     np.zeros((self.X_val.shape[0], self.hidden_layer_size * 2)),\n",
    "                        }\n",
    "                        summary_str, train_loss = sess.run([summary, cost], feed_dict=val_dict)\n",
    "                        print(\"train#%d, validation loss: %e\" % (epoch, train_loss))\n",
    "                        summary_writer.add_summary(summary_str, epoch)\n",
    "                        \n",
    "                    datas = sess.run(weights)\n",
    "                    saver.save(sess, \"./data/model/\" + str(self.model_name) + \".ckpt\")\n",
    "                    \n",
    "                datas = sess.run(weights)\n",
    "                saver.save(sess, \"./data/model/\" + str(self.model_name) + \".ckpt\")\n",
    "                \n",
    "    def predict(self, X_predict, model_name = \"test_model\"):\n",
    "        '''\n",
    "        予測期間に該当するデータから予測\n",
    "        '''\n",
    "        # 予測に使う変数の用意\n",
    "        tf.reset_default_graph()\n",
    "        input_ph = tf.placeholder(\"float\", [None, self.chunk_size, self.input_layer_size], name='input')\n",
    "        inistate_ph = tf.placeholder(\"float\", [None, self.hidden_layer_size * 2], name='inistate')\n",
    "        prediction, state, weights = self.inference(input_ph, inistate_ph)\n",
    "        pre_dict = {\n",
    "            input_ph: X_predict,\n",
    "            inistate_ph: np.zeros((X_predict.shape[0], self.hidden_layer_size*2))\n",
    "        }\n",
    "        \n",
    "        # 初期化\n",
    "        init = tf.global_variables_initializer()\n",
    "\n",
    "        with tf.Session() as sess:\n",
    "            # 保存したモデルをロード\n",
    "            saver = tf.train.Saver()\n",
    "            saver.restore(sess, \"./data/model/\" + str(model_name) + \".ckpt\")\n",
    "\n",
    "            # ロードしたモデルを使って予測結果を計算\n",
    "            expected_output = sess.run([prediction], feed_dict=pre_dict)\n",
    "\n",
    "\n",
    "        return expected_output"
   ]
  },
  {
   "cell_type": "code",
   "execution_count": 102,
   "metadata": {
    "collapsed": true
   },
   "outputs": [],
   "source": [
    "model_01 = simpleLSTM(X, Y, epochs = 50, magni = 1000, model_name = model_name)"
   ]
  },
  {
   "cell_type": "code",
   "execution_count": 103,
   "metadata": {
    "scrolled": true
   },
   "outputs": [
    {
     "name": "stdout",
     "output_type": "stream",
     "text": [
      "WARNING:tensorflow:<tensorflow.contrib.rnn.python.ops.core_rnn_cell_impl.BasicLSTMCell object at 0x10a563ac8>: Using a concatenated state is slower and will soon be deprecated.  Use state_is_tuple=True.\n",
      "train#0, validation loss: 2.960726e+02\n",
      "train#5, validation loss: 2.454100e+02\n",
      "train#10, validation loss: 1.335964e+02\n",
      "train#15, validation loss: 2.816827e+02\n",
      "train#20, validation loss: 1.402000e+02\n",
      "train#25, validation loss: 2.230655e+02\n",
      "train#30, validation loss: 2.329813e+02\n",
      "train#35, validation loss: 2.383373e+02\n",
      "train#40, validation loss: 1.401257e+02\n",
      "train#45, validation loss: 1.583693e+02\n"
     ]
    }
   ],
   "source": [
    "model_01.train()"
   ]
  },
  {
   "cell_type": "code",
   "execution_count": 109,
   "metadata": {},
   "outputs": [
    {
     "name": "stdout",
     "output_type": "stream",
     "text": [
      "WARNING:tensorflow:<tensorflow.contrib.rnn.python.ops.core_rnn_cell_impl.BasicLSTMCell object at 0x159cbe9e8>: Using a concatenated state is slower and will soon be deprecated.  Use state_is_tuple=True.\n"
     ]
    },
    {
     "ename": "NotFoundError",
     "evalue": "Unsuccessful TensorSliceReader constructor: Failed to find any matching files for ./data/model/model_2.ckpt\n\t [[Node: save/RestoreV2_2 = RestoreV2[dtypes=[DT_FLOAT], _device=\"/job:localhost/replica:0/task:0/cpu:0\"](_recv_save/Const_0, save/RestoreV2_2/tensor_names, save/RestoreV2_2/shape_and_slices)]]\n\nCaused by op 'save/RestoreV2_2', defined at:\n  File \"/Users/kyojin/anaconda/envs/tf/lib/python3.5/runpy.py\", line 193, in _run_module_as_main\n    \"__main__\", mod_spec)\n  File \"/Users/kyojin/anaconda/envs/tf/lib/python3.5/runpy.py\", line 85, in _run_code\n    exec(code, run_globals)\n  File \"/Users/kyojin/anaconda/envs/tf/lib/python3.5/site-packages/ipykernel_launcher.py\", line 16, in <module>\n    app.launch_new_instance()\n  File \"/Users/kyojin/anaconda/envs/tf/lib/python3.5/site-packages/traitlets/config/application.py\", line 658, in launch_instance\n    app.start()\n  File \"/Users/kyojin/anaconda/envs/tf/lib/python3.5/site-packages/ipykernel/kernelapp.py\", line 477, in start\n    ioloop.IOLoop.instance().start()\n  File \"/Users/kyojin/anaconda/envs/tf/lib/python3.5/site-packages/zmq/eventloop/ioloop.py\", line 177, in start\n    super(ZMQIOLoop, self).start()\n  File \"/Users/kyojin/anaconda/envs/tf/lib/python3.5/site-packages/tornado/ioloop.py\", line 888, in start\n    handler_func(fd_obj, events)\n  File \"/Users/kyojin/anaconda/envs/tf/lib/python3.5/site-packages/tornado/stack_context.py\", line 277, in null_wrapper\n    return fn(*args, **kwargs)\n  File \"/Users/kyojin/anaconda/envs/tf/lib/python3.5/site-packages/zmq/eventloop/zmqstream.py\", line 440, in _handle_events\n    self._handle_recv()\n  File \"/Users/kyojin/anaconda/envs/tf/lib/python3.5/site-packages/zmq/eventloop/zmqstream.py\", line 472, in _handle_recv\n    self._run_callback(callback, msg)\n  File \"/Users/kyojin/anaconda/envs/tf/lib/python3.5/site-packages/zmq/eventloop/zmqstream.py\", line 414, in _run_callback\n    callback(*args, **kwargs)\n  File \"/Users/kyojin/anaconda/envs/tf/lib/python3.5/site-packages/tornado/stack_context.py\", line 277, in null_wrapper\n    return fn(*args, **kwargs)\n  File \"/Users/kyojin/anaconda/envs/tf/lib/python3.5/site-packages/ipykernel/kernelbase.py\", line 283, in dispatcher\n    return self.dispatch_shell(stream, msg)\n  File \"/Users/kyojin/anaconda/envs/tf/lib/python3.5/site-packages/ipykernel/kernelbase.py\", line 235, in dispatch_shell\n    handler(stream, idents, msg)\n  File \"/Users/kyojin/anaconda/envs/tf/lib/python3.5/site-packages/ipykernel/kernelbase.py\", line 399, in execute_request\n    user_expressions, allow_stdin)\n  File \"/Users/kyojin/anaconda/envs/tf/lib/python3.5/site-packages/ipykernel/ipkernel.py\", line 196, in do_execute\n    res = shell.run_cell(code, store_history=store_history, silent=silent)\n  File \"/Users/kyojin/anaconda/envs/tf/lib/python3.5/site-packages/ipykernel/zmqshell.py\", line 533, in run_cell\n    return super(ZMQInteractiveShell, self).run_cell(*args, **kwargs)\n  File \"/Users/kyojin/anaconda/envs/tf/lib/python3.5/site-packages/IPython/core/interactiveshell.py\", line 2698, in run_cell\n    interactivity=interactivity, compiler=compiler, result=result)\n  File \"/Users/kyojin/anaconda/envs/tf/lib/python3.5/site-packages/IPython/core/interactiveshell.py\", line 2802, in run_ast_nodes\n    if self.run_code(code, result):\n  File \"/Users/kyojin/anaconda/envs/tf/lib/python3.5/site-packages/IPython/core/interactiveshell.py\", line 2862, in run_code\n    exec(code_obj, self.user_global_ns, self.user_ns)\n  File \"<ipython-input-109-f41e4c279673>\", line 9, in <module>\n    predict = model_01.predict(X_predict[s_idx:e_idx], model_name)\n  File \"<ipython-input-101-0af06b32056b>\", line 158, in predict\n    saver = tf.train.Saver()\n  File \"/Users/kyojin/anaconda/envs/tf/lib/python3.5/site-packages/tensorflow/python/training/saver.py\", line 1051, in __init__\n    self.build()\n  File \"/Users/kyojin/anaconda/envs/tf/lib/python3.5/site-packages/tensorflow/python/training/saver.py\", line 1081, in build\n    restore_sequentially=self._restore_sequentially)\n  File \"/Users/kyojin/anaconda/envs/tf/lib/python3.5/site-packages/tensorflow/python/training/saver.py\", line 675, in build\n    restore_sequentially, reshape)\n  File \"/Users/kyojin/anaconda/envs/tf/lib/python3.5/site-packages/tensorflow/python/training/saver.py\", line 402, in _AddRestoreOps\n    tensors = self.restore_op(filename_tensor, saveable, preferred_shard)\n  File \"/Users/kyojin/anaconda/envs/tf/lib/python3.5/site-packages/tensorflow/python/training/saver.py\", line 242, in restore_op\n    [spec.tensor.dtype])[0])\n  File \"/Users/kyojin/anaconda/envs/tf/lib/python3.5/site-packages/tensorflow/python/ops/gen_io_ops.py\", line 668, in restore_v2\n    dtypes=dtypes, name=name)\n  File \"/Users/kyojin/anaconda/envs/tf/lib/python3.5/site-packages/tensorflow/python/framework/op_def_library.py\", line 763, in apply_op\n    op_def=op_def)\n  File \"/Users/kyojin/anaconda/envs/tf/lib/python3.5/site-packages/tensorflow/python/framework/ops.py\", line 2395, in create_op\n    original_op=self._default_original_op, op_def=op_def)\n  File \"/Users/kyojin/anaconda/envs/tf/lib/python3.5/site-packages/tensorflow/python/framework/ops.py\", line 1264, in __init__\n    self._traceback = _extract_stack()\n\nNotFoundError (see above for traceback): Unsuccessful TensorSliceReader constructor: Failed to find any matching files for ./data/model/model_2.ckpt\n\t [[Node: save/RestoreV2_2 = RestoreV2[dtypes=[DT_FLOAT], _device=\"/job:localhost/replica:0/task:0/cpu:0\"](_recv_save/Const_0, save/RestoreV2_2/tensor_names, save/RestoreV2_2/shape_and_slices)]]\n",
     "output_type": "error",
     "traceback": [
      "\u001b[0;31m---------------------------------------------------------------------------\u001b[0m",
      "\u001b[0;31mNotFoundError\u001b[0m                             Traceback (most recent call last)",
      "\u001b[0;32m~/anaconda/envs/tf/lib/python3.5/site-packages/tensorflow/python/client/session.py\u001b[0m in \u001b[0;36m_do_call\u001b[0;34m(self, fn, *args)\u001b[0m\n\u001b[1;32m   1021\u001b[0m     \u001b[0;32mtry\u001b[0m\u001b[0;34m:\u001b[0m\u001b[0;34m\u001b[0m\u001b[0m\n\u001b[0;32m-> 1022\u001b[0;31m       \u001b[0;32mreturn\u001b[0m \u001b[0mfn\u001b[0m\u001b[0;34m(\u001b[0m\u001b[0;34m*\u001b[0m\u001b[0margs\u001b[0m\u001b[0;34m)\u001b[0m\u001b[0;34m\u001b[0m\u001b[0m\n\u001b[0m\u001b[1;32m   1023\u001b[0m     \u001b[0;32mexcept\u001b[0m \u001b[0merrors\u001b[0m\u001b[0;34m.\u001b[0m\u001b[0mOpError\u001b[0m \u001b[0;32mas\u001b[0m \u001b[0me\u001b[0m\u001b[0;34m:\u001b[0m\u001b[0;34m\u001b[0m\u001b[0m\n",
      "\u001b[0;32m~/anaconda/envs/tf/lib/python3.5/site-packages/tensorflow/python/client/session.py\u001b[0m in \u001b[0;36m_run_fn\u001b[0;34m(session, feed_dict, fetch_list, target_list, options, run_metadata)\u001b[0m\n\u001b[1;32m   1003\u001b[0m                                  \u001b[0mfeed_dict\u001b[0m\u001b[0;34m,\u001b[0m \u001b[0mfetch_list\u001b[0m\u001b[0;34m,\u001b[0m \u001b[0mtarget_list\u001b[0m\u001b[0;34m,\u001b[0m\u001b[0;34m\u001b[0m\u001b[0m\n\u001b[0;32m-> 1004\u001b[0;31m                                  status, run_metadata)\n\u001b[0m\u001b[1;32m   1005\u001b[0m \u001b[0;34m\u001b[0m\u001b[0m\n",
      "\u001b[0;32m~/anaconda/envs/tf/lib/python3.5/contextlib.py\u001b[0m in \u001b[0;36m__exit__\u001b[0;34m(self, type, value, traceback)\u001b[0m\n\u001b[1;32m     65\u001b[0m             \u001b[0;32mtry\u001b[0m\u001b[0;34m:\u001b[0m\u001b[0;34m\u001b[0m\u001b[0m\n\u001b[0;32m---> 66\u001b[0;31m                 \u001b[0mnext\u001b[0m\u001b[0;34m(\u001b[0m\u001b[0mself\u001b[0m\u001b[0;34m.\u001b[0m\u001b[0mgen\u001b[0m\u001b[0;34m)\u001b[0m\u001b[0;34m\u001b[0m\u001b[0m\n\u001b[0m\u001b[1;32m     67\u001b[0m             \u001b[0;32mexcept\u001b[0m \u001b[0mStopIteration\u001b[0m\u001b[0;34m:\u001b[0m\u001b[0;34m\u001b[0m\u001b[0m\n",
      "\u001b[0;32m~/anaconda/envs/tf/lib/python3.5/site-packages/tensorflow/python/framework/errors_impl.py\u001b[0m in \u001b[0;36mraise_exception_on_not_ok_status\u001b[0;34m()\u001b[0m\n\u001b[1;32m    468\u001b[0m           \u001b[0mcompat\u001b[0m\u001b[0;34m.\u001b[0m\u001b[0mas_text\u001b[0m\u001b[0;34m(\u001b[0m\u001b[0mpywrap_tensorflow\u001b[0m\u001b[0;34m.\u001b[0m\u001b[0mTF_Message\u001b[0m\u001b[0;34m(\u001b[0m\u001b[0mstatus\u001b[0m\u001b[0;34m)\u001b[0m\u001b[0;34m)\u001b[0m\u001b[0;34m,\u001b[0m\u001b[0;34m\u001b[0m\u001b[0m\n\u001b[0;32m--> 469\u001b[0;31m           pywrap_tensorflow.TF_GetCode(status))\n\u001b[0m\u001b[1;32m    470\u001b[0m   \u001b[0;32mfinally\u001b[0m\u001b[0;34m:\u001b[0m\u001b[0;34m\u001b[0m\u001b[0m\n",
      "\u001b[0;31mNotFoundError\u001b[0m: Unsuccessful TensorSliceReader constructor: Failed to find any matching files for ./data/model/model_2.ckpt\n\t [[Node: save/RestoreV2_2 = RestoreV2[dtypes=[DT_FLOAT], _device=\"/job:localhost/replica:0/task:0/cpu:0\"](_recv_save/Const_0, save/RestoreV2_2/tensor_names, save/RestoreV2_2/shape_and_slices)]]",
      "\nDuring handling of the above exception, another exception occurred:\n",
      "\u001b[0;31mNotFoundError\u001b[0m                             Traceback (most recent call last)",
      "\u001b[0;32m<ipython-input-109-f41e4c279673>\u001b[0m in \u001b[0;36m<module>\u001b[0;34m()\u001b[0m\n\u001b[1;32m      7\u001b[0m     \u001b[0;32mif\u001b[0m \u001b[0me_idx\u001b[0m \u001b[0;34m>\u001b[0m \u001b[0mlen\u001b[0m\u001b[0;34m(\u001b[0m\u001b[0mX_predict\u001b[0m\u001b[0;34m)\u001b[0m\u001b[0;34m:\u001b[0m\u001b[0;34m\u001b[0m\u001b[0m\n\u001b[1;32m      8\u001b[0m         \u001b[0me_idx\u001b[0m \u001b[0;34m=\u001b[0m \u001b[0mlen\u001b[0m\u001b[0;34m(\u001b[0m\u001b[0mX_predict\u001b[0m\u001b[0;34m)\u001b[0m\u001b[0;34m\u001b[0m\u001b[0m\n\u001b[0;32m----> 9\u001b[0;31m     \u001b[0mpredict\u001b[0m \u001b[0;34m=\u001b[0m \u001b[0mmodel_01\u001b[0m\u001b[0;34m.\u001b[0m\u001b[0mpredict\u001b[0m\u001b[0;34m(\u001b[0m\u001b[0mX_predict\u001b[0m\u001b[0;34m[\u001b[0m\u001b[0ms_idx\u001b[0m\u001b[0;34m:\u001b[0m\u001b[0me_idx\u001b[0m\u001b[0;34m]\u001b[0m\u001b[0;34m,\u001b[0m \u001b[0mmodel_name\u001b[0m\u001b[0;34m)\u001b[0m\u001b[0;34m\u001b[0m\u001b[0m\n\u001b[0m\u001b[1;32m     10\u001b[0m     \u001b[0mpredict\u001b[0m \u001b[0;34m=\u001b[0m \u001b[0mnp\u001b[0m\u001b[0;34m.\u001b[0m\u001b[0marray\u001b[0m\u001b[0;34m(\u001b[0m\u001b[0mpredict\u001b[0m\u001b[0;34m)\u001b[0m\u001b[0;34m.\u001b[0m\u001b[0mreshape\u001b[0m\u001b[0;34m(\u001b[0m\u001b[0mlen\u001b[0m\u001b[0;34m(\u001b[0m\u001b[0mpredict\u001b[0m\u001b[0;34m[\u001b[0m\u001b[0;36m0\u001b[0m\u001b[0;34m]\u001b[0m\u001b[0;34m)\u001b[0m\u001b[0;34m)\u001b[0m\u001b[0;34m\u001b[0m\u001b[0m\n\u001b[1;32m     11\u001b[0m     \u001b[0mtmp_predict\u001b[0m \u001b[0;34m=\u001b[0m \u001b[0mdenormalize_array\u001b[0m\u001b[0;34m(\u001b[0m\u001b[0mpredict\u001b[0m\u001b[0;34m,\u001b[0m \u001b[0moutput_min\u001b[0m\u001b[0;34m,\u001b[0m \u001b[0moutput_max\u001b[0m\u001b[0;34m)\u001b[0m\u001b[0;34m\u001b[0m\u001b[0m\n",
      "\u001b[0;32m<ipython-input-101-0af06b32056b>\u001b[0m in \u001b[0;36mpredict\u001b[0;34m(self, X_predict, model_name)\u001b[0m\n\u001b[1;32m    157\u001b[0m             \u001b[0;31m# 保存したモデルをロード\u001b[0m\u001b[0;34m\u001b[0m\u001b[0;34m\u001b[0m\u001b[0m\n\u001b[1;32m    158\u001b[0m             \u001b[0msaver\u001b[0m \u001b[0;34m=\u001b[0m \u001b[0mtf\u001b[0m\u001b[0;34m.\u001b[0m\u001b[0mtrain\u001b[0m\u001b[0;34m.\u001b[0m\u001b[0mSaver\u001b[0m\u001b[0;34m(\u001b[0m\u001b[0;34m)\u001b[0m\u001b[0;34m\u001b[0m\u001b[0m\n\u001b[0;32m--> 159\u001b[0;31m             \u001b[0msaver\u001b[0m\u001b[0;34m.\u001b[0m\u001b[0mrestore\u001b[0m\u001b[0;34m(\u001b[0m\u001b[0msess\u001b[0m\u001b[0;34m,\u001b[0m \u001b[0;34m\"./data/model/\"\u001b[0m \u001b[0;34m+\u001b[0m \u001b[0mstr\u001b[0m\u001b[0;34m(\u001b[0m\u001b[0mmodel_name\u001b[0m\u001b[0;34m)\u001b[0m \u001b[0;34m+\u001b[0m \u001b[0;34m\".ckpt\"\u001b[0m\u001b[0;34m)\u001b[0m\u001b[0;34m\u001b[0m\u001b[0m\n\u001b[0m\u001b[1;32m    160\u001b[0m \u001b[0;34m\u001b[0m\u001b[0m\n\u001b[1;32m    161\u001b[0m             \u001b[0;31m# ロードしたモデルを使って予測結果を計算\u001b[0m\u001b[0;34m\u001b[0m\u001b[0;34m\u001b[0m\u001b[0m\n",
      "\u001b[0;32m~/anaconda/envs/tf/lib/python3.5/site-packages/tensorflow/python/training/saver.py\u001b[0m in \u001b[0;36mrestore\u001b[0;34m(self, sess, save_path)\u001b[0m\n\u001b[1;32m   1437\u001b[0m       \u001b[0;32mreturn\u001b[0m\u001b[0;34m\u001b[0m\u001b[0m\n\u001b[1;32m   1438\u001b[0m     sess.run(self.saver_def.restore_op_name,\n\u001b[0;32m-> 1439\u001b[0;31m              {self.saver_def.filename_tensor_name: save_path})\n\u001b[0m\u001b[1;32m   1440\u001b[0m \u001b[0;34m\u001b[0m\u001b[0m\n\u001b[1;32m   1441\u001b[0m   \u001b[0;34m@\u001b[0m\u001b[0mstaticmethod\u001b[0m\u001b[0;34m\u001b[0m\u001b[0m\n",
      "\u001b[0;32m~/anaconda/envs/tf/lib/python3.5/site-packages/tensorflow/python/client/session.py\u001b[0m in \u001b[0;36mrun\u001b[0;34m(self, fetches, feed_dict, options, run_metadata)\u001b[0m\n\u001b[1;32m    765\u001b[0m     \u001b[0;32mtry\u001b[0m\u001b[0;34m:\u001b[0m\u001b[0;34m\u001b[0m\u001b[0m\n\u001b[1;32m    766\u001b[0m       result = self._run(None, fetches, feed_dict, options_ptr,\n\u001b[0;32m--> 767\u001b[0;31m                          run_metadata_ptr)\n\u001b[0m\u001b[1;32m    768\u001b[0m       \u001b[0;32mif\u001b[0m \u001b[0mrun_metadata\u001b[0m\u001b[0;34m:\u001b[0m\u001b[0;34m\u001b[0m\u001b[0m\n\u001b[1;32m    769\u001b[0m         \u001b[0mproto_data\u001b[0m \u001b[0;34m=\u001b[0m \u001b[0mtf_session\u001b[0m\u001b[0;34m.\u001b[0m\u001b[0mTF_GetBuffer\u001b[0m\u001b[0;34m(\u001b[0m\u001b[0mrun_metadata_ptr\u001b[0m\u001b[0;34m)\u001b[0m\u001b[0;34m\u001b[0m\u001b[0m\n",
      "\u001b[0;32m~/anaconda/envs/tf/lib/python3.5/site-packages/tensorflow/python/client/session.py\u001b[0m in \u001b[0;36m_run\u001b[0;34m(self, handle, fetches, feed_dict, options, run_metadata)\u001b[0m\n\u001b[1;32m    963\u001b[0m     \u001b[0;32mif\u001b[0m \u001b[0mfinal_fetches\u001b[0m \u001b[0;32mor\u001b[0m \u001b[0mfinal_targets\u001b[0m\u001b[0;34m:\u001b[0m\u001b[0;34m\u001b[0m\u001b[0m\n\u001b[1;32m    964\u001b[0m       results = self._do_run(handle, final_targets, final_fetches,\n\u001b[0;32m--> 965\u001b[0;31m                              feed_dict_string, options, run_metadata)\n\u001b[0m\u001b[1;32m    966\u001b[0m     \u001b[0;32melse\u001b[0m\u001b[0;34m:\u001b[0m\u001b[0;34m\u001b[0m\u001b[0m\n\u001b[1;32m    967\u001b[0m       \u001b[0mresults\u001b[0m \u001b[0;34m=\u001b[0m \u001b[0;34m[\u001b[0m\u001b[0;34m]\u001b[0m\u001b[0;34m\u001b[0m\u001b[0m\n",
      "\u001b[0;32m~/anaconda/envs/tf/lib/python3.5/site-packages/tensorflow/python/client/session.py\u001b[0m in \u001b[0;36m_do_run\u001b[0;34m(self, handle, target_list, fetch_list, feed_dict, options, run_metadata)\u001b[0m\n\u001b[1;32m   1013\u001b[0m     \u001b[0;32mif\u001b[0m \u001b[0mhandle\u001b[0m \u001b[0;32mis\u001b[0m \u001b[0;32mNone\u001b[0m\u001b[0;34m:\u001b[0m\u001b[0;34m\u001b[0m\u001b[0m\n\u001b[1;32m   1014\u001b[0m       return self._do_call(_run_fn, self._session, feed_dict, fetch_list,\n\u001b[0;32m-> 1015\u001b[0;31m                            target_list, options, run_metadata)\n\u001b[0m\u001b[1;32m   1016\u001b[0m     \u001b[0;32melse\u001b[0m\u001b[0;34m:\u001b[0m\u001b[0;34m\u001b[0m\u001b[0m\n\u001b[1;32m   1017\u001b[0m       return self._do_call(_prun_fn, self._session, handle, feed_dict,\n",
      "\u001b[0;32m~/anaconda/envs/tf/lib/python3.5/site-packages/tensorflow/python/client/session.py\u001b[0m in \u001b[0;36m_do_call\u001b[0;34m(self, fn, *args)\u001b[0m\n\u001b[1;32m   1033\u001b[0m         \u001b[0;32mexcept\u001b[0m \u001b[0mKeyError\u001b[0m\u001b[0;34m:\u001b[0m\u001b[0;34m\u001b[0m\u001b[0m\n\u001b[1;32m   1034\u001b[0m           \u001b[0;32mpass\u001b[0m\u001b[0;34m\u001b[0m\u001b[0m\n\u001b[0;32m-> 1035\u001b[0;31m       \u001b[0;32mraise\u001b[0m \u001b[0mtype\u001b[0m\u001b[0;34m(\u001b[0m\u001b[0me\u001b[0m\u001b[0;34m)\u001b[0m\u001b[0;34m(\u001b[0m\u001b[0mnode_def\u001b[0m\u001b[0;34m,\u001b[0m \u001b[0mop\u001b[0m\u001b[0;34m,\u001b[0m \u001b[0mmessage\u001b[0m\u001b[0;34m)\u001b[0m\u001b[0;34m\u001b[0m\u001b[0m\n\u001b[0m\u001b[1;32m   1036\u001b[0m \u001b[0;34m\u001b[0m\u001b[0m\n\u001b[1;32m   1037\u001b[0m   \u001b[0;32mdef\u001b[0m \u001b[0m_extend_graph\u001b[0m\u001b[0;34m(\u001b[0m\u001b[0mself\u001b[0m\u001b[0;34m)\u001b[0m\u001b[0;34m:\u001b[0m\u001b[0;34m\u001b[0m\u001b[0m\n",
      "\u001b[0;31mNotFoundError\u001b[0m: Unsuccessful TensorSliceReader constructor: Failed to find any matching files for ./data/model/model_2.ckpt\n\t [[Node: save/RestoreV2_2 = RestoreV2[dtypes=[DT_FLOAT], _device=\"/job:localhost/replica:0/task:0/cpu:0\"](_recv_save/Const_0, save/RestoreV2_2/tensor_names, save/RestoreV2_2/shape_and_slices)]]\n\nCaused by op 'save/RestoreV2_2', defined at:\n  File \"/Users/kyojin/anaconda/envs/tf/lib/python3.5/runpy.py\", line 193, in _run_module_as_main\n    \"__main__\", mod_spec)\n  File \"/Users/kyojin/anaconda/envs/tf/lib/python3.5/runpy.py\", line 85, in _run_code\n    exec(code, run_globals)\n  File \"/Users/kyojin/anaconda/envs/tf/lib/python3.5/site-packages/ipykernel_launcher.py\", line 16, in <module>\n    app.launch_new_instance()\n  File \"/Users/kyojin/anaconda/envs/tf/lib/python3.5/site-packages/traitlets/config/application.py\", line 658, in launch_instance\n    app.start()\n  File \"/Users/kyojin/anaconda/envs/tf/lib/python3.5/site-packages/ipykernel/kernelapp.py\", line 477, in start\n    ioloop.IOLoop.instance().start()\n  File \"/Users/kyojin/anaconda/envs/tf/lib/python3.5/site-packages/zmq/eventloop/ioloop.py\", line 177, in start\n    super(ZMQIOLoop, self).start()\n  File \"/Users/kyojin/anaconda/envs/tf/lib/python3.5/site-packages/tornado/ioloop.py\", line 888, in start\n    handler_func(fd_obj, events)\n  File \"/Users/kyojin/anaconda/envs/tf/lib/python3.5/site-packages/tornado/stack_context.py\", line 277, in null_wrapper\n    return fn(*args, **kwargs)\n  File \"/Users/kyojin/anaconda/envs/tf/lib/python3.5/site-packages/zmq/eventloop/zmqstream.py\", line 440, in _handle_events\n    self._handle_recv()\n  File \"/Users/kyojin/anaconda/envs/tf/lib/python3.5/site-packages/zmq/eventloop/zmqstream.py\", line 472, in _handle_recv\n    self._run_callback(callback, msg)\n  File \"/Users/kyojin/anaconda/envs/tf/lib/python3.5/site-packages/zmq/eventloop/zmqstream.py\", line 414, in _run_callback\n    callback(*args, **kwargs)\n  File \"/Users/kyojin/anaconda/envs/tf/lib/python3.5/site-packages/tornado/stack_context.py\", line 277, in null_wrapper\n    return fn(*args, **kwargs)\n  File \"/Users/kyojin/anaconda/envs/tf/lib/python3.5/site-packages/ipykernel/kernelbase.py\", line 283, in dispatcher\n    return self.dispatch_shell(stream, msg)\n  File \"/Users/kyojin/anaconda/envs/tf/lib/python3.5/site-packages/ipykernel/kernelbase.py\", line 235, in dispatch_shell\n    handler(stream, idents, msg)\n  File \"/Users/kyojin/anaconda/envs/tf/lib/python3.5/site-packages/ipykernel/kernelbase.py\", line 399, in execute_request\n    user_expressions, allow_stdin)\n  File \"/Users/kyojin/anaconda/envs/tf/lib/python3.5/site-packages/ipykernel/ipkernel.py\", line 196, in do_execute\n    res = shell.run_cell(code, store_history=store_history, silent=silent)\n  File \"/Users/kyojin/anaconda/envs/tf/lib/python3.5/site-packages/ipykernel/zmqshell.py\", line 533, in run_cell\n    return super(ZMQInteractiveShell, self).run_cell(*args, **kwargs)\n  File \"/Users/kyojin/anaconda/envs/tf/lib/python3.5/site-packages/IPython/core/interactiveshell.py\", line 2698, in run_cell\n    interactivity=interactivity, compiler=compiler, result=result)\n  File \"/Users/kyojin/anaconda/envs/tf/lib/python3.5/site-packages/IPython/core/interactiveshell.py\", line 2802, in run_ast_nodes\n    if self.run_code(code, result):\n  File \"/Users/kyojin/anaconda/envs/tf/lib/python3.5/site-packages/IPython/core/interactiveshell.py\", line 2862, in run_code\n    exec(code_obj, self.user_global_ns, self.user_ns)\n  File \"<ipython-input-109-f41e4c279673>\", line 9, in <module>\n    predict = model_01.predict(X_predict[s_idx:e_idx], model_name)\n  File \"<ipython-input-101-0af06b32056b>\", line 158, in predict\n    saver = tf.train.Saver()\n  File \"/Users/kyojin/anaconda/envs/tf/lib/python3.5/site-packages/tensorflow/python/training/saver.py\", line 1051, in __init__\n    self.build()\n  File \"/Users/kyojin/anaconda/envs/tf/lib/python3.5/site-packages/tensorflow/python/training/saver.py\", line 1081, in build\n    restore_sequentially=self._restore_sequentially)\n  File \"/Users/kyojin/anaconda/envs/tf/lib/python3.5/site-packages/tensorflow/python/training/saver.py\", line 675, in build\n    restore_sequentially, reshape)\n  File \"/Users/kyojin/anaconda/envs/tf/lib/python3.5/site-packages/tensorflow/python/training/saver.py\", line 402, in _AddRestoreOps\n    tensors = self.restore_op(filename_tensor, saveable, preferred_shard)\n  File \"/Users/kyojin/anaconda/envs/tf/lib/python3.5/site-packages/tensorflow/python/training/saver.py\", line 242, in restore_op\n    [spec.tensor.dtype])[0])\n  File \"/Users/kyojin/anaconda/envs/tf/lib/python3.5/site-packages/tensorflow/python/ops/gen_io_ops.py\", line 668, in restore_v2\n    dtypes=dtypes, name=name)\n  File \"/Users/kyojin/anaconda/envs/tf/lib/python3.5/site-packages/tensorflow/python/framework/op_def_library.py\", line 763, in apply_op\n    op_def=op_def)\n  File \"/Users/kyojin/anaconda/envs/tf/lib/python3.5/site-packages/tensorflow/python/framework/ops.py\", line 2395, in create_op\n    original_op=self._default_original_op, op_def=op_def)\n  File \"/Users/kyojin/anaconda/envs/tf/lib/python3.5/site-packages/tensorflow/python/framework/ops.py\", line 1264, in __init__\n    self._traceback = _extract_stack()\n\nNotFoundError (see above for traceback): Unsuccessful TensorSliceReader constructor: Failed to find any matching files for ./data/model/model_2.ckpt\n\t [[Node: save/RestoreV2_2 = RestoreV2[dtypes=[DT_FLOAT], _device=\"/job:localhost/replica:0/task:0/cpu:0\"](_recv_save/Const_0, save/RestoreV2_2/tensor_names, save/RestoreV2_2/shape_and_slices)]]\n"
     ]
    }
   ],
   "source": [
    "batch_size = 10000\n",
    "n_batch = len(X) // batch_size\n",
    "processed_predict = np.array([])\n",
    "for i in range(n_batch+1):\n",
    "    s_idx = i * batch_size\n",
    "    e_idx = (i+1) * batch_size\n",
    "    if e_idx > len(X_predict):\n",
    "        e_idx = len(X_predict)\n",
    "    predict = model_01.predict(X_predict[s_idx:e_idx], model_name)\n",
    "    predict = np.array(predict).reshape(len(predict[0]))\n",
    "    tmp_predict = denormalize_array(predict, output_min, output_max)\n",
    "    processed_predict = np.r_[processed_predict, tmp_predict]"
   ]
  },
  {
   "cell_type": "code",
   "execution_count": 40,
   "metadata": {
    "collapsed": true
   },
   "outputs": [],
   "source": [
    "# 2016/01/01 00:00 ~ 2017/3/31 23:50の予測データを書き出す\n",
    "s_idx = amd_data[amd_data['datetime'] == pd.to_datetime('2016/01/01 00:00')].index[0]\n",
    "e_idx = amd_data[amd_data['datetime'] == pd.to_datetime('2017/3/31 23:50')].index[0]\n",
    "predict_data = pd.DataFrame({\"datetime\":amd_data['datetime'][s_idx:e_idx+1], \"expected_output\":1})\n",
    "predict_data.index = np.arange(len(predict_data))\n",
    "predict_data.to_csv('data/predicted_data/predict_SOLA01.tsv', sep = '\\t')"
   ]
  },
  {
   "cell_type": "code",
   "execution_count": 143,
   "metadata": {
    "scrolled": true
   },
   "outputs": [
    {
     "data": {
      "text/plain": [
       "<matplotlib.text.Text at 0x1887db9e8>"
      ]
     },
     "execution_count": 143,
     "metadata": {},
     "output_type": "execute_result"
    },
    {
     "data": {
      "image/png": "[encoded data removed]",
      "text/plain": [
       "<matplotlib.figure.Figure at 0x16f8ab7f0>"
      ]
     },
     "metadata": {},
     "output_type": "display_data"
    }
   ],
   "source": [
    "plt.plot(processed_predict[0:200])\n",
    "plt.title(\"expected output\")"
   ]
  },
  {
   "cell_type": "code",
   "execution_count": 144,
   "metadata": {
    "scrolled": true
   },
   "outputs": [
    {
     "data": {
      "text/plain": [
       "<matplotlib.text.Text at 0x2496a5748>"
      ]
     },
     "execution_count": 144,
     "metadata": {},
     "output_type": "execute_result"
    },
    {
     "data": {
      "image/png": "[encoded data removed]",
      "text/plain": [
       "<matplotlib.figure.Figure at 0x249772e48>"
      ]
     },
     "metadata": {},
     "output_type": "display_data"
    }
   ],
   "source": [
    "plt.plot(output_data['SOLA01'][0:200])\n",
    "plt.title(\"actual output\")"
   ]
  },
  {
   "cell_type": "code",
   "execution_count": 59,
   "metadata": {
    "collapsed": true
   },
   "outputs": [],
   "source": [
    "compare = output_data[['SOLA01', 'SOLA02']]"
   ]
  },
  {
   "cell_type": "code",
   "execution_count": 60,
   "metadata": {},
   "outputs": [],
   "source": [
    "# compare = compare.dropna()\n",
    "dif = np.array(abs(compare['SOLA01'] - compare['SOLA02']))"
   ]
  },
  {
   "cell_type": "code",
   "execution_count": 61,
   "metadata": {},
   "outputs": [
    {
     "data": {
      "text/plain": [
       "[<matplotlib.lines.Line2D at 0x1187502e8>]"
      ]
     },
     "execution_count": 61,
     "metadata": {},
     "output_type": "execute_result"
    },
    {
     "data": {
      "image/png": "[encoded data removed]",
      "text/plain": [
       "<matplotlib.figure.Figure at 0x1186c41d0>"
      ]
     },
     "metadata": {},
     "output_type": "display_data"
    }
   ],
   "source": [
    "plt.plot(dif[0:1000])"
   ]
  }
 ],
 "metadata": {
  "kernelspec": {
   "display_name": "Python 3",
   "language": "python",
   "name": "python3"
  },
  "language_info": {
   "codemirror_mode": {
    "name": "ipython",
    "version": 3
   },
   "file_extension": ".py",
   "mimetype": "text/x-python",
   "name": "python",
   "nbconvert_exporter": "python",
   "pygments_lexer": "ipython3",
   "version": "3.5.3"
  }
 },
 "nbformat": 4,
 "nbformat_minor": 2
}
