{
 "cells": [
  {
   "cell_type": "markdown",
   "metadata": {},
   "source": [
    "# **ゆげさん製作のデータセットに目を通す**"
   ]
  },
  {
   "cell_type": "markdown",
   "metadata": {},
   "source": [
    "### **必要なライブラリ・関数等**\n",
    "\n",
    "ライブラリとは別にゆげさん製作のデータセットをprocessed_data配下に持ってくる必要があります"
   ]
  },
  {
   "cell_type": "code",
   "execution_count": 20,
   "metadata": {
    "collapsed": true
   },
   "outputs": [],
   "source": [
    "import numpy as np\n",
    "import pandas as pd\n",
    "import matplotlib.pyplot as plt\n",
    "\n",
    "%matplotlib inline"
   ]
  },
  {
   "cell_type": "markdown",
   "metadata": {},
   "source": [
    "### **pandasで確認**"
   ]
  },
  {
   "cell_type": "code",
   "execution_count": 13,
   "metadata": {},
   "outputs": [],
   "source": [
    "input_1 = pd.read_csv('data/processed_data/dataset.amd_sfc_forecast_kwh.ukishima.tsv', delimiter='\\t')"
   ]
  },
  {
   "cell_type": "code",
   "execution_count": 14,
   "metadata": {
    "collapsed": true
   },
   "outputs": [],
   "source": [
    "input_2 = pd.read_csv('data/processed_data/dataset.amd_sfc_forecast_kwh.ougishima.tsv', delimiter='\\t')"
   ]
  },
  {
   "cell_type": "code",
   "execution_count": 15,
   "metadata": {},
   "outputs": [],
   "source": [
    "input_3 = pd.read_csv('data/processed_data/dataset.amd_sfc_forecast_kwh.yonekurayama.tsv', delimiter='\\t')"
   ]
  },
  {
   "cell_type": "code",
   "execution_count": 17,
   "metadata": {},
   "outputs": [
    {
     "name": "stdout",
     "output_type": "stream",
     "text": [
      "Index(['Unnamed: 0', 'pr_amd_古河', 'f_pr_amd_古河', 'max_ws_amd_古河',\n",
      "       'f_max_ws_amd_古河', 'ave_wv_amd_古河', 'f_ave_wv_amd_古河', 'ave_ws_amd_古河',\n",
      "       'f_ave_ws_amd_古河', 'max_tp_amd_古河',\n",
      "       ...\n",
      "       'f_min_rhm_sfc_熊谷', 'vp_sfc_熊谷', 'f_vp_sfc_熊谷', 'dtp_sfc_熊谷',\n",
      "       'f_dtp_sfc_熊谷', 'vb_sfc_熊谷', 'f_vb_sfc_熊谷', 'weather_sfc_熊谷',\n",
      "       'f_weather_sfc_熊谷', 'kwh'],\n",
      "      dtype='object', length=1243)\n"
     ]
    }
   ],
   "source": [
    "print(input_1.columns)"
   ]
  },
  {
   "cell_type": "code",
   "execution_count": 18,
   "metadata": {},
   "outputs": [
    {
     "name": "stdout",
     "output_type": "stream",
     "text": [
      "Index(['Unnamed: 0', 'pr_amd_古河', 'f_pr_amd_古河', 'max_ws_amd_古河',\n",
      "       'f_max_ws_amd_古河', 'ave_wv_amd_古河', 'f_ave_wv_amd_古河', 'ave_ws_amd_古河',\n",
      "       'f_ave_ws_amd_古河', 'max_tp_amd_古河',\n",
      "       ...\n",
      "       'f_min_rhm_sfc_熊谷', 'vp_sfc_熊谷', 'f_vp_sfc_熊谷', 'dtp_sfc_熊谷',\n",
      "       'f_dtp_sfc_熊谷', 'vb_sfc_熊谷', 'f_vb_sfc_熊谷', 'weather_sfc_熊谷',\n",
      "       'f_weather_sfc_熊谷', 'kwh'],\n",
      "      dtype='object', length=1261)\n"
     ]
    }
   ],
   "source": [
    "print(input_2.columns)"
   ]
  },
  {
   "cell_type": "code",
   "execution_count": 19,
   "metadata": {},
   "outputs": [
    {
     "name": "stdout",
     "output_type": "stream",
     "text": [
      "Index(['Unnamed: 0', 'pr_amd_上里見', 'f_pr_amd_上里見', 'max_ws_amd_上里見',\n",
      "       'f_max_ws_amd_上里見', 'ave_wv_amd_上里見', 'f_ave_wv_amd_上里見',\n",
      "       'ave_ws_amd_上里見', 'f_ave_ws_amd_上里見', 'max_tp_amd_上里見',\n",
      "       ...\n",
      "       'f_min_rhm_sfc_松本', 'vp_sfc_松本', 'f_vp_sfc_松本', 'dtp_sfc_松本',\n",
      "       'f_dtp_sfc_松本', 'vb_sfc_松本', 'f_vb_sfc_松本', 'weather_sfc_松本',\n",
      "       'f_weather_sfc_松本', 'kwh'],\n",
      "      dtype='object', length=1423)\n"
     ]
    }
   ],
   "source": [
    "print(input_3.columns)"
   ]
  },
  {
   "cell_type": "code",
   "execution_count": null,
   "metadata": {
    "collapsed": true
   },
   "outputs": [],
   "source": []
  }
 ],
 "metadata": {
  "kernelspec": {
   "display_name": "Python 3",
   "language": "python",
   "name": "python3"
  },
  "language_info": {
   "codemirror_mode": {
    "name": "ipython",
    "version": 3
   },
   "file_extension": ".py",
   "mimetype": "text/x-python",
   "name": "python",
   "nbconvert_exporter": "python",
   "pygments_lexer": "ipython3",
   "version": "3.6.2"
  }
 },
 "nbformat": 4,
 "nbformat_minor": 2
}
